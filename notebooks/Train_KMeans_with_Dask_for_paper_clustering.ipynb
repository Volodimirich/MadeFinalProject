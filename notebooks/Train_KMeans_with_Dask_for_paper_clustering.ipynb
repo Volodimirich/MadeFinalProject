{
  "cells": [
    {
      "cell_type": "code",
      "source": [
        "from google.colab import drive\n",
        "drive.mount('/content/drive')"
      ],
      "metadata": {
        "colab": {
          "base_uri": "https://localhost:8080/"
        },
        "id": "9JCIQ7ipUQJF",
        "outputId": "141999e3-a563-4cde-bbd7-0eefa1dd1783"
      },
      "execution_count": null,
      "outputs": [
        {
          "output_type": "stream",
          "name": "stdout",
          "text": [
            "Mounted at /content/drive\n"
          ]
        }
      ]
    },
    {
      "cell_type": "code",
      "execution_count": null,
      "metadata": {
        "colab": {
          "base_uri": "https://localhost:8080/"
        },
        "id": "a5YPU-RFUJqY",
        "outputId": "b314f080-d5bb-41c1-b353-a5a6afd2bb48"
      },
      "outputs": [
        {
          "output_type": "stream",
          "name": "stdout",
          "text": [
            "Looking in indexes: https://pypi.org/simple, https://us-python.pkg.dev/colab-wheels/public/simple/\n",
            "Requirement already satisfied: dask in /usr/local/lib/python3.7/dist-packages (2022.2.0)\n",
            "Requirement already satisfied: toolz>=0.8.2 in /usr/local/lib/python3.7/dist-packages (from dask) (0.12.0)\n",
            "Requirement already satisfied: cloudpickle>=1.1.1 in /usr/local/lib/python3.7/dist-packages (from dask) (1.5.0)\n",
            "Requirement already satisfied: packaging>=20.0 in /usr/local/lib/python3.7/dist-packages (from dask) (21.3)\n",
            "Requirement already satisfied: partd>=0.3.10 in /usr/local/lib/python3.7/dist-packages (from dask) (1.3.0)\n",
            "Requirement already satisfied: pyyaml>=5.3.1 in /usr/local/lib/python3.7/dist-packages (from dask) (6.0)\n",
            "Requirement already satisfied: fsspec>=0.6.0 in /usr/local/lib/python3.7/dist-packages (from dask) (2022.8.2)\n",
            "Requirement already satisfied: pyparsing!=3.0.5,>=2.0.2 in /usr/local/lib/python3.7/dist-packages (from packaging>=20.0->dask) (3.0.9)\n",
            "Requirement already satisfied: locket in /usr/local/lib/python3.7/dist-packages (from partd>=0.3.10->dask) (1.0.0)\n"
          ]
        }
      ],
      "source": [
        "!pip install dask"
      ]
    },
    {
      "cell_type": "code",
      "source": [
        "!pip install fastparquet"
      ],
      "metadata": {
        "colab": {
          "base_uri": "https://localhost:8080/"
        },
        "id": "ez5nXdbtsvdU",
        "outputId": "194ccfc5-96a9-4ea9-c34d-9c48a0da798c"
      },
      "execution_count": null,
      "outputs": [
        {
          "output_type": "stream",
          "name": "stdout",
          "text": [
            "Looking in indexes: https://pypi.org/simple, https://us-python.pkg.dev/colab-wheels/public/simple/\n",
            "Collecting fastparquet\n",
            "  Downloading fastparquet-0.8.1-cp37-cp37m-manylinux_2_17_x86_64.manylinux2014_x86_64.whl (1.5 MB)\n",
            "\u001b[K     |████████████████████████████████| 1.5 MB 5.1 MB/s \n",
            "\u001b[?25hRequirement already satisfied: fsspec in /usr/local/lib/python3.7/dist-packages (from fastparquet) (2022.8.2)\n",
            "Requirement already satisfied: pandas>=1.1.0 in /usr/local/lib/python3.7/dist-packages (from fastparquet) (1.3.5)\n",
            "Requirement already satisfied: numpy>=1.18 in /usr/local/lib/python3.7/dist-packages (from fastparquet) (1.21.6)\n",
            "Collecting cramjam>=2.3.0\n",
            "  Downloading cramjam-2.5.0-cp37-cp37m-manylinux_2_5_x86_64.manylinux1_x86_64.whl (1.6 MB)\n",
            "\u001b[K     |████████████████████████████████| 1.6 MB 43.0 MB/s \n",
            "\u001b[?25hRequirement already satisfied: python-dateutil>=2.7.3 in /usr/local/lib/python3.7/dist-packages (from pandas>=1.1.0->fastparquet) (2.8.2)\n",
            "Requirement already satisfied: pytz>=2017.3 in /usr/local/lib/python3.7/dist-packages (from pandas>=1.1.0->fastparquet) (2022.4)\n",
            "Requirement already satisfied: six>=1.5 in /usr/local/lib/python3.7/dist-packages (from python-dateutil>=2.7.3->pandas>=1.1.0->fastparquet) (1.15.0)\n",
            "Installing collected packages: cramjam, fastparquet\n",
            "Successfully installed cramjam-2.5.0 fastparquet-0.8.1\n"
          ]
        }
      ]
    },
    {
      "cell_type": "code",
      "execution_count": null,
      "metadata": {
        "id": "ak6b2tLnUJqa"
      },
      "outputs": [],
      "source": [
        "import io\n",
        "import json\n",
        "import dask\n",
        "import dask.dataframe as dd\n",
        "from dask.distributed import progress\n",
        "from dask.diagnostics import ProgressBar\n",
        "import os\n",
        "import numpy as np\n",
        "import pandas as pd"
      ]
    },
    {
      "cell_type": "markdown",
      "source": [
        "Load paper embeddings"
      ],
      "metadata": {
        "id": "PGdTWfwKOhWx"
      }
    },
    {
      "cell_type": "code",
      "execution_count": null,
      "metadata": {
        "id": "sRSg2MrIUJqb"
      },
      "outputs": [],
      "source": [
        "#shared link to directory with embeddings  \n",
        "#https://drive.google.com/drive/folders/14Zjzs2cx-z9o9BlSoieUmbMJEzGBoGMd?usp=sharing\n",
        "\n",
        "path = '/content/drive/MyDrive/MADE/data/embed/'\n",
        "columns = ['_id']\n",
        "for i in range(300):\n",
        "  columns.append(i)\n",
        "df = dd.read_parquet('/content/drive/MyDrive/MADE/data/embed',engine='pyarrow')  # 256 MB "
      ]
    },
    {
      "cell_type": "code",
      "source": [
        "df"
      ],
      "metadata": {
        "colab": {
          "base_uri": "https://localhost:8080/",
          "height": 272
        },
        "id": "Bm2gcduRDI2j",
        "outputId": "cda54331-5770-4e1c-c5be-d06858b6c6d5"
      },
      "execution_count": null,
      "outputs": [
        {
          "output_type": "execute_result",
          "data": {
            "text/plain": [
              "Dask DataFrame Structure:\n",
              "                   _id embedding\n",
              "npartitions=95                  \n",
              "                object    object\n",
              "                   ...       ...\n",
              "...                ...       ...\n",
              "                   ...       ...\n",
              "                   ...       ...\n",
              "Dask Name: read-parquet, 95 tasks"
            ],
            "text/html": [
              "<div><strong>Dask DataFrame Structure:</strong></div>\n",
              "<div>\n",
              "<style scoped>\n",
              "    .dataframe tbody tr th:only-of-type {\n",
              "        vertical-align: middle;\n",
              "    }\n",
              "\n",
              "    .dataframe tbody tr th {\n",
              "        vertical-align: top;\n",
              "    }\n",
              "\n",
              "    .dataframe thead th {\n",
              "        text-align: right;\n",
              "    }\n",
              "</style>\n",
              "<table border=\"1\" class=\"dataframe\">\n",
              "  <thead>\n",
              "    <tr style=\"text-align: right;\">\n",
              "      <th></th>\n",
              "      <th>_id</th>\n",
              "      <th>embedding</th>\n",
              "    </tr>\n",
              "    <tr>\n",
              "      <th>npartitions=95</th>\n",
              "      <th></th>\n",
              "      <th></th>\n",
              "    </tr>\n",
              "  </thead>\n",
              "  <tbody>\n",
              "    <tr>\n",
              "      <th></th>\n",
              "      <td>object</td>\n",
              "      <td>object</td>\n",
              "    </tr>\n",
              "    <tr>\n",
              "      <th></th>\n",
              "      <td>...</td>\n",
              "      <td>...</td>\n",
              "    </tr>\n",
              "    <tr>\n",
              "      <th>...</th>\n",
              "      <td>...</td>\n",
              "      <td>...</td>\n",
              "    </tr>\n",
              "    <tr>\n",
              "      <th></th>\n",
              "      <td>...</td>\n",
              "      <td>...</td>\n",
              "    </tr>\n",
              "    <tr>\n",
              "      <th></th>\n",
              "      <td>...</td>\n",
              "      <td>...</td>\n",
              "    </tr>\n",
              "  </tbody>\n",
              "</table>\n",
              "</div>\n",
              "<div>Dask Name: read-parquet, 95 tasks</div>"
            ]
          },
          "metadata": {},
          "execution_count": 6
        }
      ]
    },
    {
      "cell_type": "code",
      "execution_count": null,
      "metadata": {
        "colab": {
          "base_uri": "https://localhost:8080/"
        },
        "id": "Mj647rJ4UJqc",
        "outputId": "12259c73-8f05-4965-e1e6-327513178060"
      },
      "outputs": [
        {
          "output_type": "execute_result",
          "data": {
            "text/plain": [
              "Index(['_id', 'embedding'], dtype='object')"
            ]
          },
          "metadata": {},
          "execution_count": 17
        }
      ],
      "source": [
        "df.columns"
      ]
    },
    {
      "cell_type": "markdown",
      "source": [
        "Install dask-ml to train KMeans"
      ],
      "metadata": {
        "id": "VxSUkCAjz448"
      }
    },
    {
      "cell_type": "code",
      "source": [
        "!pip install dask-ml"
      ],
      "metadata": {
        "colab": {
          "base_uri": "https://localhost:8080/"
        },
        "id": "mQDKbXTWYDE0",
        "outputId": "a2c880b6-be45-427b-ed36-4ca3ccf63ec9"
      },
      "execution_count": null,
      "outputs": [
        {
          "output_type": "stream",
          "name": "stdout",
          "text": [
            "Looking in indexes: https://pypi.org/simple, https://us-python.pkg.dev/colab-wheels/public/simple/\n",
            "Collecting dask-ml\n",
            "  Downloading dask_ml-2022.5.27-py3-none-any.whl (148 kB)\n",
            "\u001b[K     |████████████████████████████████| 148 kB 5.1 MB/s \n",
            "\u001b[?25hRequirement already satisfied: distributed>=2.4.0 in /usr/local/lib/python3.7/dist-packages (from dask-ml) (2022.2.0)\n",
            "Collecting dask-glm>=0.2.0\n",
            "  Downloading dask_glm-0.2.0-py2.py3-none-any.whl (12 kB)\n",
            "Requirement already satisfied: scipy in /usr/local/lib/python3.7/dist-packages (from dask-ml) (1.7.3)\n",
            "Requirement already satisfied: multipledispatch>=0.4.9 in /usr/local/lib/python3.7/dist-packages (from dask-ml) (0.6.0)\n",
            "Requirement already satisfied: numba>=0.51.0 in /usr/local/lib/python3.7/dist-packages (from dask-ml) (0.56.3)\n",
            "Requirement already satisfied: numpy>=1.20.0 in /usr/local/lib/python3.7/dist-packages (from dask-ml) (1.21.6)\n",
            "Requirement already satisfied: packaging in /usr/local/lib/python3.7/dist-packages (from dask-ml) (21.3)\n",
            "Requirement already satisfied: scikit-learn>=1.0.0 in /usr/local/lib/python3.7/dist-packages (from dask-ml) (1.0.2)\n",
            "Requirement already satisfied: pandas>=0.24.2 in /usr/local/lib/python3.7/dist-packages (from dask-ml) (1.3.5)\n",
            "Requirement already satisfied: dask[array,dataframe]>=2.4.0 in /usr/local/lib/python3.7/dist-packages (from dask-ml) (2022.2.0)\n",
            "Requirement already satisfied: cloudpickle>=0.2.2 in /usr/local/lib/python3.7/dist-packages (from dask-glm>=0.2.0->dask-ml) (1.5.0)\n",
            "Requirement already satisfied: pyyaml>=5.3.1 in /usr/local/lib/python3.7/dist-packages (from dask[array,dataframe]>=2.4.0->dask-ml) (6.0)\n",
            "Requirement already satisfied: partd>=0.3.10 in /usr/local/lib/python3.7/dist-packages (from dask[array,dataframe]>=2.4.0->dask-ml) (1.3.0)\n",
            "Requirement already satisfied: fsspec>=0.6.0 in /usr/local/lib/python3.7/dist-packages (from dask[array,dataframe]>=2.4.0->dask-ml) (2022.8.2)\n",
            "Requirement already satisfied: toolz>=0.8.2 in /usr/local/lib/python3.7/dist-packages (from dask[array,dataframe]>=2.4.0->dask-ml) (0.12.0)\n",
            "Requirement already satisfied: setuptools in /usr/local/lib/python3.7/dist-packages (from distributed>=2.4.0->dask-ml) (57.4.0)\n",
            "Requirement already satisfied: tornado>=5 in /usr/local/lib/python3.7/dist-packages (from distributed>=2.4.0->dask-ml) (5.1.1)\n",
            "Requirement already satisfied: msgpack>=0.6.0 in /usr/local/lib/python3.7/dist-packages (from distributed>=2.4.0->dask-ml) (1.0.4)\n",
            "Requirement already satisfied: sortedcontainers!=2.0.0,!=2.0.1 in /usr/local/lib/python3.7/dist-packages (from distributed>=2.4.0->dask-ml) (2.4.0)\n",
            "Requirement already satisfied: click>=6.6 in /usr/local/lib/python3.7/dist-packages (from distributed>=2.4.0->dask-ml) (7.1.2)\n",
            "Requirement already satisfied: psutil>=5.0 in /usr/local/lib/python3.7/dist-packages (from distributed>=2.4.0->dask-ml) (5.4.8)\n",
            "Requirement already satisfied: tblib>=1.6.0 in /usr/local/lib/python3.7/dist-packages (from distributed>=2.4.0->dask-ml) (1.7.0)\n",
            "Requirement already satisfied: zict>=0.1.3 in /usr/local/lib/python3.7/dist-packages (from distributed>=2.4.0->dask-ml) (2.2.0)\n",
            "Requirement already satisfied: jinja2 in /usr/local/lib/python3.7/dist-packages (from distributed>=2.4.0->dask-ml) (2.11.3)\n",
            "Requirement already satisfied: six in /usr/local/lib/python3.7/dist-packages (from multipledispatch>=0.4.9->dask-ml) (1.15.0)\n",
            "Requirement already satisfied: llvmlite<0.40,>=0.39.0dev0 in /usr/local/lib/python3.7/dist-packages (from numba>=0.51.0->dask-ml) (0.39.1)\n",
            "Requirement already satisfied: importlib-metadata in /usr/local/lib/python3.7/dist-packages (from numba>=0.51.0->dask-ml) (4.13.0)\n",
            "Requirement already satisfied: pyparsing!=3.0.5,>=2.0.2 in /usr/local/lib/python3.7/dist-packages (from packaging->dask-ml) (3.0.9)\n",
            "Requirement already satisfied: pytz>=2017.3 in /usr/local/lib/python3.7/dist-packages (from pandas>=0.24.2->dask-ml) (2022.4)\n",
            "Requirement already satisfied: python-dateutil>=2.7.3 in /usr/local/lib/python3.7/dist-packages (from pandas>=0.24.2->dask-ml) (2.8.2)\n",
            "Requirement already satisfied: locket in /usr/local/lib/python3.7/dist-packages (from partd>=0.3.10->dask[array,dataframe]>=2.4.0->dask-ml) (1.0.0)\n",
            "Requirement already satisfied: joblib>=0.11 in /usr/local/lib/python3.7/dist-packages (from scikit-learn>=1.0.0->dask-ml) (1.2.0)\n",
            "Requirement already satisfied: threadpoolctl>=2.0.0 in /usr/local/lib/python3.7/dist-packages (from scikit-learn>=1.0.0->dask-ml) (3.1.0)\n",
            "Requirement already satisfied: heapdict in /usr/local/lib/python3.7/dist-packages (from zict>=0.1.3->distributed>=2.4.0->dask-ml) (1.0.1)\n",
            "Requirement already satisfied: typing-extensions>=3.6.4 in /usr/local/lib/python3.7/dist-packages (from importlib-metadata->numba>=0.51.0->dask-ml) (4.1.1)\n",
            "Requirement already satisfied: zipp>=0.5 in /usr/local/lib/python3.7/dist-packages (from importlib-metadata->numba>=0.51.0->dask-ml) (3.9.0)\n",
            "Requirement already satisfied: MarkupSafe>=0.23 in /usr/local/lib/python3.7/dist-packages (from jinja2->distributed>=2.4.0->dask-ml) (2.0.1)\n",
            "Installing collected packages: dask-glm, dask-ml\n",
            "Successfully installed dask-glm-0.2.0 dask-ml-2022.5.27\n"
          ]
        }
      ]
    },
    {
      "cell_type": "markdown",
      "source": [
        "Transform embeddings from list to 300d vectors"
      ],
      "metadata": {
        "id": "MLc6Z-K4Oq3D"
      }
    },
    {
      "cell_type": "code",
      "source": [
        "import time\n",
        "pand_df = pd.DataFrame(columns = [str(i) for i in range(300)])\n",
        "start = time.time()\n",
        "for i, el in enumerate(df.partitions):\n",
        "    a = pd.DataFrame(el.compute()['embedding'].to_list(), columns=[str(i) for i in range(300)])\n",
        "    pand_df = pand_df.append(a, ignore_index=True)#loc[-1] = item  # adding a row\n",
        "   \n",
        "    if i > 0 and i % 5 == 0:\n",
        "      print(i, time.time() - start)\n",
        "\n"
      ],
      "metadata": {
        "colab": {
          "base_uri": "https://localhost:8080/"
        },
        "id": "ElujKaDKBDPI",
        "outputId": "1bb5d2af-5d00-4b18-f62f-2b230cf1cd84"
      },
      "execution_count": null,
      "outputs": [
        {
          "output_type": "stream",
          "name": "stdout",
          "text": [
            "5 10.12522554397583\n",
            "10 19.21131706237793\n",
            "15 28.442830324172974\n",
            "20 38.277753591537476\n",
            "25 47.81296157836914\n",
            "30 57.16328048706055\n",
            "35 66.84322929382324\n",
            "40 75.99336910247803\n",
            "45 84.797372341156\n",
            "50 93.86396360397339\n",
            "55 101.596426486969\n",
            "60 109.65278267860413\n",
            "65 117.49231743812561\n",
            "70 124.46403908729553\n",
            "75 130.40879464149475\n",
            "80 136.28705048561096\n",
            "85 140.022381067276\n",
            "90 142.19440722465515\n"
          ]
        }
      ]
    },
    {
      "cell_type": "code",
      "source": [
        "pand_df.set_index(df['_id'].compute())"
      ],
      "metadata": {
        "colab": {
          "base_uri": "https://localhost:8080/",
          "height": 519
        },
        "id": "nTi3H5h9pX__",
        "outputId": "6b179123-87c1-487e-f09d-7c1139b8f145"
      },
      "execution_count": null,
      "outputs": [
        {
          "output_type": "execute_result",
          "data": {
            "text/plain": [
              "                                 0         1         2         3         4  \\\n",
              "_id                                                                          \n",
              "53e99838b7602d9702061730  0.127694 -0.095981  0.097173 -0.213574  0.040428   \n",
              "53e99859b7602d9702095c85  0.121340 -0.058553  0.138133 -0.229551 -0.010913   \n",
              "53e997f8b7602d9702001319  0.105163 -0.043473  0.148448 -0.272367  0.029231   \n",
              "53e9987db7602d97020b4e46  0.115177 -0.081723  0.175635 -0.246403  0.007365   \n",
              "53e99875b7602d97020aca38  0.192630 -0.091995  0.195174 -0.237603  0.014541   \n",
              "...                            ...       ...       ...       ...       ...   \n",
              "5fc5da2f9e795eeae83ae35d  0.134999 -0.073098  0.185590 -0.241807  0.017732   \n",
              "5fe035f29e795ea5d94fd49b  0.122674 -0.065414  0.143219 -0.234272  0.057738   \n",
              "6051c7e89e795eb49a3cb2fc  0.144506 -0.085198  0.129844 -0.230726  0.012330   \n",
              "6059b9099e795e05e0eecf79  0.125790 -0.064601  0.149369 -0.257565 -0.002098   \n",
              "6008311d9e795ed227f53096  0.115374 -0.072227  0.147948 -0.221358  0.030982   \n",
              "\n",
              "                                 5         6         7         8         9  \\\n",
              "_id                                                                          \n",
              "53e99838b7602d9702061730  0.201207 -0.194796 -0.047965  0.016585 -0.025908   \n",
              "53e99859b7602d9702095c85  0.121316 -0.140510 -0.032995  0.040727  0.021705   \n",
              "53e997f8b7602d9702001319  0.148846 -0.130700 -0.033828  0.075568  0.101023   \n",
              "53e9987db7602d97020b4e46  0.166254 -0.120839  0.001899  0.022379  0.022395   \n",
              "53e99875b7602d97020aca38  0.172141 -0.139173 -0.031952  0.017711  0.001964   \n",
              "...                            ...       ...       ...       ...       ...   \n",
              "5fc5da2f9e795eeae83ae35d  0.151760 -0.093670 -0.042568  0.039133  0.024792   \n",
              "5fe035f29e795ea5d94fd49b  0.127853 -0.125520 -0.026347  0.087883  0.020923   \n",
              "6051c7e89e795eb49a3cb2fc  0.178476 -0.126667 -0.065545  0.038195  0.030339   \n",
              "6059b9099e795e05e0eecf79  0.177266 -0.131952 -0.028529  0.089448  0.035449   \n",
              "6008311d9e795ed227f53096  0.151175 -0.136867 -0.026801  0.096175  0.023808   \n",
              "\n",
              "                          ...       290       291       292       293  \\\n",
              "_id                       ...                                           \n",
              "53e99838b7602d9702061730  ... -0.055051 -0.115736 -0.018648  0.076822   \n",
              "53e99859b7602d9702095c85  ... -0.022282 -0.120238 -0.085214  0.045804   \n",
              "53e997f8b7602d9702001319  ... -0.012520 -0.076026 -0.107029  0.027732   \n",
              "53e9987db7602d97020b4e46  ...  0.023048 -0.075502 -0.090520  0.049800   \n",
              "53e99875b7602d97020aca38  ... -0.008113 -0.153763 -0.084585  0.049276   \n",
              "...                       ...       ...       ...       ...       ...   \n",
              "5fc5da2f9e795eeae83ae35d  ... -0.013026 -0.123903 -0.137905  0.019104   \n",
              "5fe035f29e795ea5d94fd49b  ...  0.020012 -0.111447 -0.049796  0.055077   \n",
              "6051c7e89e795eb49a3cb2fc  ...  0.007970 -0.092573 -0.091680  0.073110   \n",
              "6059b9099e795e05e0eecf79  ...  0.031346 -0.095564 -0.100239  0.039922   \n",
              "6008311d9e795ed227f53096  ...  0.005466 -0.120503 -0.079986  0.023457   \n",
              "\n",
              "                               294       295       296       297       298  \\\n",
              "_id                                                                          \n",
              "53e99838b7602d9702061730 -0.031790  0.077657 -0.129554  0.003648 -0.068287   \n",
              "53e99859b7602d9702095c85  0.007439  0.015015 -0.191873 -0.039066 -0.095688   \n",
              "53e997f8b7602d9702001319  0.055595  0.041248 -0.156385 -0.000103 -0.133777   \n",
              "53e9987db7602d97020b4e46  0.020538 -0.001469 -0.193494 -0.007210 -0.099426   \n",
              "53e99875b7602d97020aca38  0.014209  0.059728 -0.215116  0.013944 -0.081414   \n",
              "...                            ...       ...       ...       ...       ...   \n",
              "5fc5da2f9e795eeae83ae35d  0.044095  0.029519 -0.241116 -0.015820 -0.099309   \n",
              "5fe035f29e795ea5d94fd49b -0.025132  0.032911 -0.148064 -0.078905 -0.067745   \n",
              "6051c7e89e795eb49a3cb2fc -0.006148  0.018561 -0.199351 -0.010894 -0.068245   \n",
              "6059b9099e795e05e0eecf79 -0.002786  0.012986 -0.145606 -0.030180 -0.087057   \n",
              "6008311d9e795ed227f53096  0.007034  0.019881 -0.187113 -0.021034 -0.079620   \n",
              "\n",
              "                               299  \n",
              "_id                                 \n",
              "53e99838b7602d9702061730 -0.066314  \n",
              "53e99859b7602d9702095c85 -0.151637  \n",
              "53e997f8b7602d9702001319 -0.162567  \n",
              "53e9987db7602d97020b4e46 -0.171653  \n",
              "53e99875b7602d97020aca38 -0.133619  \n",
              "...                            ...  \n",
              "5fc5da2f9e795eeae83ae35d -0.156724  \n",
              "5fe035f29e795ea5d94fd49b -0.109359  \n",
              "6051c7e89e795eb49a3cb2fc -0.112939  \n",
              "6059b9099e795e05e0eecf79 -0.142389  \n",
              "6008311d9e795ed227f53096 -0.139363  \n",
              "\n",
              "[623906 rows x 300 columns]"
            ],
            "text/html": [
              "\n",
              "  <div id=\"df-19556ecc-39f6-40b2-b86e-c8516f5d7ffc\">\n",
              "    <div class=\"colab-df-container\">\n",
              "      <div>\n",
              "<style scoped>\n",
              "    .dataframe tbody tr th:only-of-type {\n",
              "        vertical-align: middle;\n",
              "    }\n",
              "\n",
              "    .dataframe tbody tr th {\n",
              "        vertical-align: top;\n",
              "    }\n",
              "\n",
              "    .dataframe thead th {\n",
              "        text-align: right;\n",
              "    }\n",
              "</style>\n",
              "<table border=\"1\" class=\"dataframe\">\n",
              "  <thead>\n",
              "    <tr style=\"text-align: right;\">\n",
              "      <th></th>\n",
              "      <th>0</th>\n",
              "      <th>1</th>\n",
              "      <th>2</th>\n",
              "      <th>3</th>\n",
              "      <th>4</th>\n",
              "      <th>5</th>\n",
              "      <th>6</th>\n",
              "      <th>7</th>\n",
              "      <th>8</th>\n",
              "      <th>9</th>\n",
              "      <th>...</th>\n",
              "      <th>290</th>\n",
              "      <th>291</th>\n",
              "      <th>292</th>\n",
              "      <th>293</th>\n",
              "      <th>294</th>\n",
              "      <th>295</th>\n",
              "      <th>296</th>\n",
              "      <th>297</th>\n",
              "      <th>298</th>\n",
              "      <th>299</th>\n",
              "    </tr>\n",
              "    <tr>\n",
              "      <th>_id</th>\n",
              "      <th></th>\n",
              "      <th></th>\n",
              "      <th></th>\n",
              "      <th></th>\n",
              "      <th></th>\n",
              "      <th></th>\n",
              "      <th></th>\n",
              "      <th></th>\n",
              "      <th></th>\n",
              "      <th></th>\n",
              "      <th></th>\n",
              "      <th></th>\n",
              "      <th></th>\n",
              "      <th></th>\n",
              "      <th></th>\n",
              "      <th></th>\n",
              "      <th></th>\n",
              "      <th></th>\n",
              "      <th></th>\n",
              "      <th></th>\n",
              "      <th></th>\n",
              "    </tr>\n",
              "  </thead>\n",
              "  <tbody>\n",
              "    <tr>\n",
              "      <th>53e99838b7602d9702061730</th>\n",
              "      <td>0.127694</td>\n",
              "      <td>-0.095981</td>\n",
              "      <td>0.097173</td>\n",
              "      <td>-0.213574</td>\n",
              "      <td>0.040428</td>\n",
              "      <td>0.201207</td>\n",
              "      <td>-0.194796</td>\n",
              "      <td>-0.047965</td>\n",
              "      <td>0.016585</td>\n",
              "      <td>-0.025908</td>\n",
              "      <td>...</td>\n",
              "      <td>-0.055051</td>\n",
              "      <td>-0.115736</td>\n",
              "      <td>-0.018648</td>\n",
              "      <td>0.076822</td>\n",
              "      <td>-0.031790</td>\n",
              "      <td>0.077657</td>\n",
              "      <td>-0.129554</td>\n",
              "      <td>0.003648</td>\n",
              "      <td>-0.068287</td>\n",
              "      <td>-0.066314</td>\n",
              "    </tr>\n",
              "    <tr>\n",
              "      <th>53e99859b7602d9702095c85</th>\n",
              "      <td>0.121340</td>\n",
              "      <td>-0.058553</td>\n",
              "      <td>0.138133</td>\n",
              "      <td>-0.229551</td>\n",
              "      <td>-0.010913</td>\n",
              "      <td>0.121316</td>\n",
              "      <td>-0.140510</td>\n",
              "      <td>-0.032995</td>\n",
              "      <td>0.040727</td>\n",
              "      <td>0.021705</td>\n",
              "      <td>...</td>\n",
              "      <td>-0.022282</td>\n",
              "      <td>-0.120238</td>\n",
              "      <td>-0.085214</td>\n",
              "      <td>0.045804</td>\n",
              "      <td>0.007439</td>\n",
              "      <td>0.015015</td>\n",
              "      <td>-0.191873</td>\n",
              "      <td>-0.039066</td>\n",
              "      <td>-0.095688</td>\n",
              "      <td>-0.151637</td>\n",
              "    </tr>\n",
              "    <tr>\n",
              "      <th>53e997f8b7602d9702001319</th>\n",
              "      <td>0.105163</td>\n",
              "      <td>-0.043473</td>\n",
              "      <td>0.148448</td>\n",
              "      <td>-0.272367</td>\n",
              "      <td>0.029231</td>\n",
              "      <td>0.148846</td>\n",
              "      <td>-0.130700</td>\n",
              "      <td>-0.033828</td>\n",
              "      <td>0.075568</td>\n",
              "      <td>0.101023</td>\n",
              "      <td>...</td>\n",
              "      <td>-0.012520</td>\n",
              "      <td>-0.076026</td>\n",
              "      <td>-0.107029</td>\n",
              "      <td>0.027732</td>\n",
              "      <td>0.055595</td>\n",
              "      <td>0.041248</td>\n",
              "      <td>-0.156385</td>\n",
              "      <td>-0.000103</td>\n",
              "      <td>-0.133777</td>\n",
              "      <td>-0.162567</td>\n",
              "    </tr>\n",
              "    <tr>\n",
              "      <th>53e9987db7602d97020b4e46</th>\n",
              "      <td>0.115177</td>\n",
              "      <td>-0.081723</td>\n",
              "      <td>0.175635</td>\n",
              "      <td>-0.246403</td>\n",
              "      <td>0.007365</td>\n",
              "      <td>0.166254</td>\n",
              "      <td>-0.120839</td>\n",
              "      <td>0.001899</td>\n",
              "      <td>0.022379</td>\n",
              "      <td>0.022395</td>\n",
              "      <td>...</td>\n",
              "      <td>0.023048</td>\n",
              "      <td>-0.075502</td>\n",
              "      <td>-0.090520</td>\n",
              "      <td>0.049800</td>\n",
              "      <td>0.020538</td>\n",
              "      <td>-0.001469</td>\n",
              "      <td>-0.193494</td>\n",
              "      <td>-0.007210</td>\n",
              "      <td>-0.099426</td>\n",
              "      <td>-0.171653</td>\n",
              "    </tr>\n",
              "    <tr>\n",
              "      <th>53e99875b7602d97020aca38</th>\n",
              "      <td>0.192630</td>\n",
              "      <td>-0.091995</td>\n",
              "      <td>0.195174</td>\n",
              "      <td>-0.237603</td>\n",
              "      <td>0.014541</td>\n",
              "      <td>0.172141</td>\n",
              "      <td>-0.139173</td>\n",
              "      <td>-0.031952</td>\n",
              "      <td>0.017711</td>\n",
              "      <td>0.001964</td>\n",
              "      <td>...</td>\n",
              "      <td>-0.008113</td>\n",
              "      <td>-0.153763</td>\n",
              "      <td>-0.084585</td>\n",
              "      <td>0.049276</td>\n",
              "      <td>0.014209</td>\n",
              "      <td>0.059728</td>\n",
              "      <td>-0.215116</td>\n",
              "      <td>0.013944</td>\n",
              "      <td>-0.081414</td>\n",
              "      <td>-0.133619</td>\n",
              "    </tr>\n",
              "    <tr>\n",
              "      <th>...</th>\n",
              "      <td>...</td>\n",
              "      <td>...</td>\n",
              "      <td>...</td>\n",
              "      <td>...</td>\n",
              "      <td>...</td>\n",
              "      <td>...</td>\n",
              "      <td>...</td>\n",
              "      <td>...</td>\n",
              "      <td>...</td>\n",
              "      <td>...</td>\n",
              "      <td>...</td>\n",
              "      <td>...</td>\n",
              "      <td>...</td>\n",
              "      <td>...</td>\n",
              "      <td>...</td>\n",
              "      <td>...</td>\n",
              "      <td>...</td>\n",
              "      <td>...</td>\n",
              "      <td>...</td>\n",
              "      <td>...</td>\n",
              "      <td>...</td>\n",
              "    </tr>\n",
              "    <tr>\n",
              "      <th>5fc5da2f9e795eeae83ae35d</th>\n",
              "      <td>0.134999</td>\n",
              "      <td>-0.073098</td>\n",
              "      <td>0.185590</td>\n",
              "      <td>-0.241807</td>\n",
              "      <td>0.017732</td>\n",
              "      <td>0.151760</td>\n",
              "      <td>-0.093670</td>\n",
              "      <td>-0.042568</td>\n",
              "      <td>0.039133</td>\n",
              "      <td>0.024792</td>\n",
              "      <td>...</td>\n",
              "      <td>-0.013026</td>\n",
              "      <td>-0.123903</td>\n",
              "      <td>-0.137905</td>\n",
              "      <td>0.019104</td>\n",
              "      <td>0.044095</td>\n",
              "      <td>0.029519</td>\n",
              "      <td>-0.241116</td>\n",
              "      <td>-0.015820</td>\n",
              "      <td>-0.099309</td>\n",
              "      <td>-0.156724</td>\n",
              "    </tr>\n",
              "    <tr>\n",
              "      <th>5fe035f29e795ea5d94fd49b</th>\n",
              "      <td>0.122674</td>\n",
              "      <td>-0.065414</td>\n",
              "      <td>0.143219</td>\n",
              "      <td>-0.234272</td>\n",
              "      <td>0.057738</td>\n",
              "      <td>0.127853</td>\n",
              "      <td>-0.125520</td>\n",
              "      <td>-0.026347</td>\n",
              "      <td>0.087883</td>\n",
              "      <td>0.020923</td>\n",
              "      <td>...</td>\n",
              "      <td>0.020012</td>\n",
              "      <td>-0.111447</td>\n",
              "      <td>-0.049796</td>\n",
              "      <td>0.055077</td>\n",
              "      <td>-0.025132</td>\n",
              "      <td>0.032911</td>\n",
              "      <td>-0.148064</td>\n",
              "      <td>-0.078905</td>\n",
              "      <td>-0.067745</td>\n",
              "      <td>-0.109359</td>\n",
              "    </tr>\n",
              "    <tr>\n",
              "      <th>6051c7e89e795eb49a3cb2fc</th>\n",
              "      <td>0.144506</td>\n",
              "      <td>-0.085198</td>\n",
              "      <td>0.129844</td>\n",
              "      <td>-0.230726</td>\n",
              "      <td>0.012330</td>\n",
              "      <td>0.178476</td>\n",
              "      <td>-0.126667</td>\n",
              "      <td>-0.065545</td>\n",
              "      <td>0.038195</td>\n",
              "      <td>0.030339</td>\n",
              "      <td>...</td>\n",
              "      <td>0.007970</td>\n",
              "      <td>-0.092573</td>\n",
              "      <td>-0.091680</td>\n",
              "      <td>0.073110</td>\n",
              "      <td>-0.006148</td>\n",
              "      <td>0.018561</td>\n",
              "      <td>-0.199351</td>\n",
              "      <td>-0.010894</td>\n",
              "      <td>-0.068245</td>\n",
              "      <td>-0.112939</td>\n",
              "    </tr>\n",
              "    <tr>\n",
              "      <th>6059b9099e795e05e0eecf79</th>\n",
              "      <td>0.125790</td>\n",
              "      <td>-0.064601</td>\n",
              "      <td>0.149369</td>\n",
              "      <td>-0.257565</td>\n",
              "      <td>-0.002098</td>\n",
              "      <td>0.177266</td>\n",
              "      <td>-0.131952</td>\n",
              "      <td>-0.028529</td>\n",
              "      <td>0.089448</td>\n",
              "      <td>0.035449</td>\n",
              "      <td>...</td>\n",
              "      <td>0.031346</td>\n",
              "      <td>-0.095564</td>\n",
              "      <td>-0.100239</td>\n",
              "      <td>0.039922</td>\n",
              "      <td>-0.002786</td>\n",
              "      <td>0.012986</td>\n",
              "      <td>-0.145606</td>\n",
              "      <td>-0.030180</td>\n",
              "      <td>-0.087057</td>\n",
              "      <td>-0.142389</td>\n",
              "    </tr>\n",
              "    <tr>\n",
              "      <th>6008311d9e795ed227f53096</th>\n",
              "      <td>0.115374</td>\n",
              "      <td>-0.072227</td>\n",
              "      <td>0.147948</td>\n",
              "      <td>-0.221358</td>\n",
              "      <td>0.030982</td>\n",
              "      <td>0.151175</td>\n",
              "      <td>-0.136867</td>\n",
              "      <td>-0.026801</td>\n",
              "      <td>0.096175</td>\n",
              "      <td>0.023808</td>\n",
              "      <td>...</td>\n",
              "      <td>0.005466</td>\n",
              "      <td>-0.120503</td>\n",
              "      <td>-0.079986</td>\n",
              "      <td>0.023457</td>\n",
              "      <td>0.007034</td>\n",
              "      <td>0.019881</td>\n",
              "      <td>-0.187113</td>\n",
              "      <td>-0.021034</td>\n",
              "      <td>-0.079620</td>\n",
              "      <td>-0.139363</td>\n",
              "    </tr>\n",
              "  </tbody>\n",
              "</table>\n",
              "<p>623906 rows × 300 columns</p>\n",
              "</div>\n",
              "      <button class=\"colab-df-convert\" onclick=\"convertToInteractive('df-19556ecc-39f6-40b2-b86e-c8516f5d7ffc')\"\n",
              "              title=\"Convert this dataframe to an interactive table.\"\n",
              "              style=\"display:none;\">\n",
              "        \n",
              "  <svg xmlns=\"http://www.w3.org/2000/svg\" height=\"24px\"viewBox=\"0 0 24 24\"\n",
              "       width=\"24px\">\n",
              "    <path d=\"M0 0h24v24H0V0z\" fill=\"none\"/>\n",
              "    <path d=\"M18.56 5.44l.94 2.06.94-2.06 2.06-.94-2.06-.94-.94-2.06-.94 2.06-2.06.94zm-11 1L8.5 8.5l.94-2.06 2.06-.94-2.06-.94L8.5 2.5l-.94 2.06-2.06.94zm10 10l.94 2.06.94-2.06 2.06-.94-2.06-.94-.94-2.06-.94 2.06-2.06.94z\"/><path d=\"M17.41 7.96l-1.37-1.37c-.4-.4-.92-.59-1.43-.59-.52 0-1.04.2-1.43.59L10.3 9.45l-7.72 7.72c-.78.78-.78 2.05 0 2.83L4 21.41c.39.39.9.59 1.41.59.51 0 1.02-.2 1.41-.59l7.78-7.78 2.81-2.81c.8-.78.8-2.07 0-2.86zM5.41 20L4 18.59l7.72-7.72 1.47 1.35L5.41 20z\"/>\n",
              "  </svg>\n",
              "      </button>\n",
              "      \n",
              "  <style>\n",
              "    .colab-df-container {\n",
              "      display:flex;\n",
              "      flex-wrap:wrap;\n",
              "      gap: 12px;\n",
              "    }\n",
              "\n",
              "    .colab-df-convert {\n",
              "      background-color: #E8F0FE;\n",
              "      border: none;\n",
              "      border-radius: 50%;\n",
              "      cursor: pointer;\n",
              "      display: none;\n",
              "      fill: #1967D2;\n",
              "      height: 32px;\n",
              "      padding: 0 0 0 0;\n",
              "      width: 32px;\n",
              "    }\n",
              "\n",
              "    .colab-df-convert:hover {\n",
              "      background-color: #E2EBFA;\n",
              "      box-shadow: 0px 1px 2px rgba(60, 64, 67, 0.3), 0px 1px 3px 1px rgba(60, 64, 67, 0.15);\n",
              "      fill: #174EA6;\n",
              "    }\n",
              "\n",
              "    [theme=dark] .colab-df-convert {\n",
              "      background-color: #3B4455;\n",
              "      fill: #D2E3FC;\n",
              "    }\n",
              "\n",
              "    [theme=dark] .colab-df-convert:hover {\n",
              "      background-color: #434B5C;\n",
              "      box-shadow: 0px 1px 3px 1px rgba(0, 0, 0, 0.15);\n",
              "      filter: drop-shadow(0px 1px 2px rgba(0, 0, 0, 0.3));\n",
              "      fill: #FFFFFF;\n",
              "    }\n",
              "  </style>\n",
              "\n",
              "      <script>\n",
              "        const buttonEl =\n",
              "          document.querySelector('#df-19556ecc-39f6-40b2-b86e-c8516f5d7ffc button.colab-df-convert');\n",
              "        buttonEl.style.display =\n",
              "          google.colab.kernel.accessAllowed ? 'block' : 'none';\n",
              "\n",
              "        async function convertToInteractive(key) {\n",
              "          const element = document.querySelector('#df-19556ecc-39f6-40b2-b86e-c8516f5d7ffc');\n",
              "          const dataTable =\n",
              "            await google.colab.kernel.invokeFunction('convertToInteractive',\n",
              "                                                     [key], {});\n",
              "          if (!dataTable) return;\n",
              "\n",
              "          const docLinkHtml = 'Like what you see? Visit the ' +\n",
              "            '<a target=\"_blank\" href=https://colab.research.google.com/notebooks/data_table.ipynb>data table notebook</a>'\n",
              "            + ' to learn more about interactive tables.';\n",
              "          element.innerHTML = '';\n",
              "          dataTable['output_type'] = 'display_data';\n",
              "          await google.colab.output.renderOutput(dataTable, element);\n",
              "          const docLink = document.createElement('div');\n",
              "          docLink.innerHTML = docLinkHtml;\n",
              "          element.appendChild(docLink);\n",
              "        }\n",
              "      </script>\n",
              "    </div>\n",
              "  </div>\n",
              "  "
            ]
          },
          "metadata": {},
          "execution_count": 9
        }
      ]
    },
    {
      "cell_type": "markdown",
      "source": [
        "Define model"
      ],
      "metadata": {
        "id": "GoSY1Z8sO2hf"
      }
    },
    {
      "cell_type": "code",
      "source": [
        "from dask_ml.cluster import KMeans, SpectralClustering\n",
        "\n",
        "def func(n):\n",
        "  return KMeans(n_clusters = n, oversampling_factor = 2, random_state=1)#SpectralClustering(n_clusters = n)\n",
        "\n"
      ],
      "metadata": {
        "id": "Vdl2JoVe2tI_"
      },
      "execution_count": null,
      "outputs": []
    },
    {
      "cell_type": "code",
      "source": [
        "inert = []\n",
        "#if model is traind not first time \n",
        "#pand_df = pand_df.drop(['n_cluster'], axis = 1)\n",
        "with ProgressBar():\n",
        " \n",
        "  for n_clusters in range(20, 21, 1):\n",
        "    km = func(n_clusters)\n",
        "    km.fit(pand_df)\n",
        "    inert.append((n_clusters, km.inertia_))\n",
        "    print(n_clusters, km.inertia_)\n",
        "  \n",
        "  predictions = km.predict(pand_df)\n",
        "  predictions"
      ],
      "metadata": {
        "colab": {
          "base_uri": "https://localhost:8080/"
        },
        "id": "Xx1y9USNZxae",
        "outputId": "9cd5ff3c-8232-40f5-d2b5-97de332bf119"
      },
      "execution_count": null,
      "outputs": [
        {
          "output_type": "stream",
          "name": "stdout",
          "text": [
            "[########################################] | 100% Completed |  0.2s\n",
            "[########################################] | 100% Completed |  0.1s\n",
            "[########################################] | 100% Completed |  0.6s\n",
            "[########################################] | 100% Completed |  0.7s\n",
            "[########################################] | 100% Completed |  0.1s\n",
            "[########################################] | 100% Completed |  0.9s\n",
            "[########################################] | 100% Completed |  0.1s\n",
            "[########################################] | 100% Completed |  1.0s\n",
            "[########################################] | 100% Completed |  0.1s\n",
            "[########################################] | 100% Completed |  1.4s\n",
            "[########################################] | 100% Completed |  0.1s\n",
            "[########################################] | 100% Completed |  1.5s\n",
            "[########################################] | 100% Completed |  0.1s\n",
            "[########################################] | 100% Completed |  1.5s\n",
            "[########################################] | 100% Completed |  0.1s\n",
            "[########################################] | 100% Completed |  1.5s\n",
            "[########################################] | 100% Completed |  0.1s\n",
            "[########################################] | 100% Completed |  1.5s\n",
            "[########################################] | 100% Completed |  0.1s\n",
            "[########################################] | 100% Completed |  1.5s\n",
            "[########################################] | 100% Completed |  0.1s\n",
            "[########################################] | 100% Completed |  1.6s\n",
            "[########################################] | 100% Completed |  0.1s\n",
            "[########################################] | 100% Completed |  1.6s\n",
            "[########################################] | 100% Completed |  0.1s\n",
            "[########################################] | 100% Completed |  1.7s\n",
            "[########################################] | 100% Completed |  0.1s\n",
            "[########################################] | 100% Completed |  1.7s\n",
            "[########################################] | 100% Completed |  0.1s\n",
            "[########################################] | 100% Completed |  0.1s\n",
            "[########################################] | 100% Completed |  3.9s\n",
            "[########################################] | 100% Completed |  2.8s\n",
            "[########################################] | 100% Completed |  2.8s\n",
            "[########################################] | 100% Completed |  2.8s\n",
            "[########################################] | 100% Completed |  2.7s\n",
            "[########################################] | 100% Completed |  2.8s\n",
            "[########################################] | 100% Completed |  2.8s\n",
            "[########################################] | 100% Completed |  2.8s\n",
            "[########################################] | 100% Completed |  2.9s\n",
            "[########################################] | 100% Completed |  2.8s\n",
            "[########################################] | 100% Completed |  2.8s\n",
            "[########################################] | 100% Completed |  2.8s\n",
            "[########################################] | 100% Completed |  2.8s\n",
            "[########################################] | 100% Completed |  2.8s\n",
            "[########################################] | 100% Completed |  3.5s\n",
            "[########################################] | 100% Completed |  3.0s\n",
            "[########################################] | 100% Completed |  2.9s\n",
            "[########################################] | 100% Completed |  2.8s\n",
            "[########################################] | 100% Completed |  2.9s\n",
            "[########################################] | 100% Completed |  1.2s\n",
            "20 241689.40286619595\n",
            "[########################################] | 100% Completed |  0.2s\n"
          ]
        }
      ]
    },
    {
      "cell_type": "markdown",
      "source": [
        "Calculate statistics (number of items in classes)"
      ],
      "metadata": {
        "id": "Vfsmk0eiSPgB"
      }
    },
    {
      "cell_type": "code",
      "source": [
        "n_cluster = 20 # clusters\n",
        "pand_df['n_cluster'] = predictions\n",
        "stat = pand_df.groupby(['n_cluster']).count()\n",
        "print(stat.iloc[:, 0].describe())\n",
        "pand_df['n_cluster'].hist(bins = n_cluster)\n"
      ],
      "metadata": {
        "colab": {
          "base_uri": "https://localhost:8080/",
          "height": 439
        },
        "id": "QWsWpfnSP0pE",
        "outputId": "615fec76-efcb-43a3-fdca-b87cbea48aa6"
      },
      "execution_count": null,
      "outputs": [
        {
          "output_type": "stream",
          "name": "stdout",
          "text": [
            "count       20.000000\n",
            "mean     31195.300000\n",
            "std      13009.390698\n",
            "min        967.000000\n",
            "25%      27261.750000\n",
            "50%      33013.500000\n",
            "75%      37367.250000\n",
            "max      54993.000000\n",
            "Name: 0, dtype: float64\n"
          ]
        },
        {
          "output_type": "execute_result",
          "data": {
            "text/plain": [
              "<matplotlib.axes._subplots.AxesSubplot at 0x7f0d9d09bed0>"
            ]
          },
          "metadata": {},
          "execution_count": 23
        },
        {
          "output_type": "display_data",
          "data": {
            "text/plain": [
              "<Figure size 432x288 with 1 Axes>"
            ],
            "image/png": "[encoded data removed]"
          },
          "metadata": {
            "needs_background": "light"
          }
        }
      ]
    },
    {
      "cell_type": "code",
      "source": [
        "print(stat.iloc[:, 0])"
      ],
      "metadata": {
        "colab": {
          "base_uri": "https://localhost:8080/"
        },
        "id": "kRK5fhA1VzQp",
        "outputId": "6d43e8f2-6b58-47d4-d051-af589560a9c3"
      },
      "execution_count": null,
      "outputs": [
        {
          "output_type": "stream",
          "name": "stdout",
          "text": [
            "n_cluster\n",
            "0     32549\n",
            "1     32887\n",
            "2      9883\n",
            "3     44944\n",
            "4     47440\n",
            "5       967\n",
            "6     36310\n",
            "7     24903\n",
            "8     30794\n",
            "9     28048\n",
            "10    34346\n",
            "11    36872\n",
            "12    33140\n",
            "13    11361\n",
            "14    28917\n",
            "15    19925\n",
            "16    35714\n",
            "17    41060\n",
            "18    54993\n",
            "19    38853\n",
            "Name: 0, dtype: int64\n"
          ]
        }
      ]
    },
    {
      "cell_type": "markdown",
      "source": [
        "#Save model"
      ],
      "metadata": {
        "id": "75AELgAOijWM"
      }
    },
    {
      "cell_type": "code",
      "source": [
        "#trained model sharing link\n",
        "#https://drive.google.com/file/d/1--mhDHA-g1WP2tFn7BK3bNk9XOqBBkcm/view?usp=sharing\n",
        "import dill\n",
        "with open('/content/drive/MyDrive/MADE/data/clusters/knn_20_model.pkl', 'wb') as file:\n",
        "    dill.dump(km, file)"
      ],
      "metadata": {
        "id": "wddYKtj_TBmq"
      },
      "execution_count": null,
      "outputs": []
    }
  ],
  "metadata": {
    "kernelspec": {
      "display_name": "Python 3.9.5 64-bit",
      "language": "python",
      "name": "python3"
    },
    "language_info": {
      "codemirror_mode": {
        "name": "ipython",
        "version": 3
      },
      "file_extension": ".py",
      "mimetype": "text/x-python",
      "name": "python",
      "nbconvert_exporter": "python",
      "pygments_lexer": "ipython3",
      "version": "3.9.5"
    },
    "orig_nbformat": 4,
    "vscode": {
      "interpreter": {
        "hash": "a77c4d7466fbfcf0ce6ae1ed690c35add2f35ad412eecb6c28431d6a63d12a0c"
      }
    },
    "colab": {
      "provenance": [],
      "collapsed_sections": [],
      "machine_shape": "hm"
    },
    "accelerator": "GPU"
  },
  "nbformat": 4,
  "nbformat_minor": 0
}