{
  "cells": [
    {
      "cell_type": "markdown",
      "metadata": {
        "id": "view-in-github",
        "colab_type": "text"
      },
      "source": [
        "<a href=\"https://colab.research.google.com/github/Volodimirich/MadeFinalProject/blob/main/Papers_dataset_EDA.ipynb\" target=\"_parent\"><img src=\"https://colab.research.google.com/assets/colab-badge.svg\" alt=\"Open In Colab\"/></a>"
      ]
    },
    {
      "cell_type": "markdown",
      "source": [
        "#Учебный проект \n",
        "\n",
        "##Команда 17:\n",
        "\n",
        "1.   Шапошников Владимир \n",
        "2.   Рамазанов Куат \n",
        "3.   Шадрин Сергей  \n",
        "4.   Обарская Татьяна  \n",
        "5.   Косарева Екатерина \n",
        "6.   Коваленко Михаил \n",
        "7.   Мелех Даниил \n",
        "\n",
        "\n",
        "**Тьютор** - Николай Марнаутов\n"
      ],
      "metadata": {
        "id": "U9itXqiBryU4"
      }
    },
    {
      "cell_type": "markdown",
      "source": [
        "# Загрузка данных\n",
        "\n",
        "Для проекта был выбран датасет https://originalstatic.aminer.cn/misc/dblp.v13.7z, описание датасета можно найти по ссылке https://www.aminer.cn/citation\n",
        "\n",
        "В связи с большим объемом датасета (17 Гб), для удобства анализа он был предворительно обработан и разбит на более мелкие файлы. Доступ к файлам:\n",
        "\n",
        "1) Полный датасет в формате JSONL \n",
        "https://drive.google.com/file/d/1-Go0pdM_rXjwi2OaIj7tJ7ZjifjLSF43/view?usp=sharing\n",
        "\n",
        "2) Папка с файлами https://drive.google.com/drive/folders/11pA1QTj0rsyaurpmGaQdGJfaG2cZnmNo?usp=sharing\n"
      ],
      "metadata": {
        "id": "90CEURG8twW_"
      }
    },
    {
      "cell_type": "code",
      "source": [
        "from google.colab import drive\n",
        "drive.mount('/content/gdrive')"
      ],
      "metadata": {
        "colab": {
          "base_uri": "https://localhost:8080/"
        },
        "id": "NDnhUJd13ldE",
        "outputId": "037b096d-2c1e-4acf-fc79-52fb0503dfd1"
      },
      "execution_count": null,
      "outputs": [
        {
          "output_type": "stream",
          "name": "stdout",
          "text": [
            "Mounted at /content/gdrive\n"
          ]
        }
      ]
    },
    {
      "cell_type": "code",
      "execution_count": null,
      "metadata": {
        "id": "-pd4vaZ3Hrm8",
        "colab": {
          "base_uri": "https://localhost:8080/",
          "height": 600
        },
        "outputId": "4cae11f1-88f5-4cb8-f92f-65c6f527de16"
      },
      "outputs": [
        {
          "output_type": "execute_result",
          "data": {
            "text/plain": [
              "                        _id  \\\n",
              "0  53e99784b7602d9701f3e3f5   \n",
              "1  53e99784b7602d9701f3e151   \n",
              "2  53e99784b7602d9701f3e133   \n",
              "3  53e99784b7602d9701f3e161   \n",
              "4  53e99784b7602d9701f3e15d   \n",
              "\n",
              "                                               title  \\\n",
              "0                                              3GIO.   \n",
              "1  A solution to the problem of touching and brok...   \n",
              "2  The relationship between canopy parameters and...   \n",
              "3                                               360°   \n",
              "4  Timing yield estimation using statistical stat...   \n",
              "\n",
              "                                               venue    year  \\\n",
              "0                                        {'type': 0}  2011.0   \n",
              "1  {'_id': '53a72a4920f7420be8bfa51b', 'name_d': ...  1993.0   \n",
              "2  {'_id': '53a7297d20f7420be8bd4ae7', 'name_d': ...  2011.0   \n",
              "3  {'_id': '5390a74a20f70186a0e8b40b', 'raw': 'AC...  2009.0   \n",
              "4  {'_id': '53a72e2020f7420be8c80142', 'name_d': ...  2005.0   \n",
              "\n",
              "                                            keywords  n_citation lang  \\\n",
              "0                                                 []         0.0   en   \n",
              "1  [handwriting recognition, prototypes, image se...        17.0   en   \n",
              "2  [canopy parameters, canopy spectrum, different...         0.0   en   \n",
              "3  [global high technology, daily short-distance ...         NaN   en   \n",
              "4  [sequential circuits, statistical distribution...        28.0   en   \n",
              "\n",
              "                                             authors  \\\n",
              "0                                                NaN   \n",
              "1  [{'_id': '53f46797dabfaeb22f542630', 'name': '...   \n",
              "2  [{'_id': '53f45728dabfaec09f209538', 'name': '...   \n",
              "3  [{'_id': '53f46946dabfaec09f24b4ed', 'name': '...   \n",
              "4  [{'_id': '53f43b03dabfaedce555bf2a', 'name': '...   \n",
              "\n",
              "                                                 fos page_start   page_end  \\\n",
              "0                                                NaN        NaN        NaN   \n",
              "1  [Intelligent character recognition, Pattern re...        602        605   \n",
              "2  [Agronomy, Moisture, Hydrology, Environmental ...       1930       1933   \n",
              "3                                                NaN         39         39   \n",
              "4  [Delay calculation, Timing failure, Monte Carl...       2461  2464Vol.3   \n",
              "\n",
              "  volume issue issn           isbn                          doi  \\\n",
              "0    NaN   NaN  NaN            NaN                          NaN   \n",
              "1                                     10.1109/ICDAR.1993.395663   \n",
              "2   null  null                      10.1109/IGARSS.2011.6049503   \n",
              "3                                       10.1145/1665137.1665166   \n",
              "4                    0-7803-8834-8   10.1109/ISCAS.2005.1465124   \n",
              "\n",
              "                                                 pdf  \\\n",
              "0                                                NaN   \n",
              "1                                               None   \n",
              "2                                               None   \n",
              "3                                                NaN   \n",
              "4  //static.aminer.org/pdf/PDF/000/423/329/timing...   \n",
              "\n",
              "                                                 url  \\\n",
              "0                                                NaN   \n",
              "1      [http://dx.doi.org/10.1109/ICDAR.1993.395663]   \n",
              "2    [http://dx.doi.org/10.1109/IGARSS.2011.6049503]   \n",
              "3                                                NaN   \n",
              "4  [http://dx.doi.org/10.1109/ISCAS.2005.1465124,...   \n",
              "\n",
              "                                            abstract  \\\n",
              "0                                                NaN   \n",
              "1                                                      \n",
              "2  Drought is the first place in all the natural ...   \n",
              "3  360° represents the concerns that are addresse...   \n",
              "4  As process variations become a significant pro...   \n",
              "\n",
              "                                          references  \n",
              "0                                                NaN  \n",
              "1  [53e99cf5b7602d97025ace63, 557e8a7a6fee0fe990c...  \n",
              "2                                                NaN  \n",
              "3                                                NaN  \n",
              "4  [53e9a8a9b7602d97031f6bb9, 599c7b6b601a182cd27...  "
            ],
            "text/html": [
              "\n",
              "  <div id=\"df-6de8ebd3-8105-4653-bd60-a14c313def80\">\n",
              "    <div class=\"colab-df-container\">\n",
              "      <div>\n",
              "<style scoped>\n",
              "    .dataframe tbody tr th:only-of-type {\n",
              "        vertical-align: middle;\n",
              "    }\n",
              "\n",
              "    .dataframe tbody tr th {\n",
              "        vertical-align: top;\n",
              "    }\n",
              "\n",
              "    .dataframe thead th {\n",
              "        text-align: right;\n",
              "    }\n",
              "</style>\n",
              "<table border=\"1\" class=\"dataframe\">\n",
              "  <thead>\n",
              "    <tr style=\"text-align: right;\">\n",
              "      <th></th>\n",
              "      <th>_id</th>\n",
              "      <th>title</th>\n",
              "      <th>venue</th>\n",
              "      <th>year</th>\n",
              "      <th>keywords</th>\n",
              "      <th>n_citation</th>\n",
              "      <th>lang</th>\n",
              "      <th>authors</th>\n",
              "      <th>fos</th>\n",
              "      <th>page_start</th>\n",
              "      <th>page_end</th>\n",
              "      <th>volume</th>\n",
              "      <th>issue</th>\n",
              "      <th>issn</th>\n",
              "      <th>isbn</th>\n",
              "      <th>doi</th>\n",
              "      <th>pdf</th>\n",
              "      <th>url</th>\n",
              "      <th>abstract</th>\n",
              "      <th>references</th>\n",
              "    </tr>\n",
              "  </thead>\n",
              "  <tbody>\n",
              "    <tr>\n",
              "      <th>0</th>\n",
              "      <td>53e99784b7602d9701f3e3f5</td>\n",
              "      <td>3GIO.</td>\n",
              "      <td>{'type': 0}</td>\n",
              "      <td>2011.0</td>\n",
              "      <td>[]</td>\n",
              "      <td>0.0</td>\n",
              "      <td>en</td>\n",
              "      <td>NaN</td>\n",
              "      <td>NaN</td>\n",
              "      <td>NaN</td>\n",
              "      <td>NaN</td>\n",
              "      <td>NaN</td>\n",
              "      <td>NaN</td>\n",
              "      <td>NaN</td>\n",
              "      <td>NaN</td>\n",
              "      <td>NaN</td>\n",
              "      <td>NaN</td>\n",
              "      <td>NaN</td>\n",
              "      <td>NaN</td>\n",
              "      <td>NaN</td>\n",
              "    </tr>\n",
              "    <tr>\n",
              "      <th>1</th>\n",
              "      <td>53e99784b7602d9701f3e151</td>\n",
              "      <td>A solution to the problem of touching and brok...</td>\n",
              "      <td>{'_id': '53a72a4920f7420be8bfa51b', 'name_d': ...</td>\n",
              "      <td>1993.0</td>\n",
              "      <td>[handwriting recognition, prototypes, image se...</td>\n",
              "      <td>17.0</td>\n",
              "      <td>en</td>\n",
              "      <td>[{'_id': '53f46797dabfaeb22f542630', 'name': '...</td>\n",
              "      <td>[Intelligent character recognition, Pattern re...</td>\n",
              "      <td>602</td>\n",
              "      <td>605</td>\n",
              "      <td></td>\n",
              "      <td></td>\n",
              "      <td></td>\n",
              "      <td></td>\n",
              "      <td>10.1109/ICDAR.1993.395663</td>\n",
              "      <td>None</td>\n",
              "      <td>[http://dx.doi.org/10.1109/ICDAR.1993.395663]</td>\n",
              "      <td></td>\n",
              "      <td>[53e99cf5b7602d97025ace63, 557e8a7a6fee0fe990c...</td>\n",
              "    </tr>\n",
              "    <tr>\n",
              "      <th>2</th>\n",
              "      <td>53e99784b7602d9701f3e133</td>\n",
              "      <td>The relationship between canopy parameters and...</td>\n",
              "      <td>{'_id': '53a7297d20f7420be8bd4ae7', 'name_d': ...</td>\n",
              "      <td>2011.0</td>\n",
              "      <td>[canopy parameters, canopy spectrum, different...</td>\n",
              "      <td>0.0</td>\n",
              "      <td>en</td>\n",
              "      <td>[{'_id': '53f45728dabfaec09f209538', 'name': '...</td>\n",
              "      <td>[Agronomy, Moisture, Hydrology, Environmental ...</td>\n",
              "      <td>1930</td>\n",
              "      <td>1933</td>\n",
              "      <td>null</td>\n",
              "      <td>null</td>\n",
              "      <td></td>\n",
              "      <td></td>\n",
              "      <td>10.1109/IGARSS.2011.6049503</td>\n",
              "      <td>None</td>\n",
              "      <td>[http://dx.doi.org/10.1109/IGARSS.2011.6049503]</td>\n",
              "      <td>Drought is the first place in all the natural ...</td>\n",
              "      <td>NaN</td>\n",
              "    </tr>\n",
              "    <tr>\n",
              "      <th>3</th>\n",
              "      <td>53e99784b7602d9701f3e161</td>\n",
              "      <td>360°</td>\n",
              "      <td>{'_id': '5390a74a20f70186a0e8b40b', 'raw': 'AC...</td>\n",
              "      <td>2009.0</td>\n",
              "      <td>[global high technology, daily short-distance ...</td>\n",
              "      <td>NaN</td>\n",
              "      <td>en</td>\n",
              "      <td>[{'_id': '53f46946dabfaec09f24b4ed', 'name': '...</td>\n",
              "      <td>NaN</td>\n",
              "      <td>39</td>\n",
              "      <td>39</td>\n",
              "      <td></td>\n",
              "      <td></td>\n",
              "      <td></td>\n",
              "      <td></td>\n",
              "      <td>10.1145/1665137.1665166</td>\n",
              "      <td>NaN</td>\n",
              "      <td>NaN</td>\n",
              "      <td>360° represents the concerns that are addresse...</td>\n",
              "      <td>NaN</td>\n",
              "    </tr>\n",
              "    <tr>\n",
              "      <th>4</th>\n",
              "      <td>53e99784b7602d9701f3e15d</td>\n",
              "      <td>Timing yield estimation using statistical stat...</td>\n",
              "      <td>{'_id': '53a72e2020f7420be8c80142', 'name_d': ...</td>\n",
              "      <td>2005.0</td>\n",
              "      <td>[sequential circuits, statistical distribution...</td>\n",
              "      <td>28.0</td>\n",
              "      <td>en</td>\n",
              "      <td>[{'_id': '53f43b03dabfaedce555bf2a', 'name': '...</td>\n",
              "      <td>[Delay calculation, Timing failure, Monte Carl...</td>\n",
              "      <td>2461</td>\n",
              "      <td>2464Vol.3</td>\n",
              "      <td></td>\n",
              "      <td></td>\n",
              "      <td></td>\n",
              "      <td>0-7803-8834-8</td>\n",
              "      <td>10.1109/ISCAS.2005.1465124</td>\n",
              "      <td>//static.aminer.org/pdf/PDF/000/423/329/timing...</td>\n",
              "      <td>[http://dx.doi.org/10.1109/ISCAS.2005.1465124,...</td>\n",
              "      <td>As process variations become a significant pro...</td>\n",
              "      <td>[53e9a8a9b7602d97031f6bb9, 599c7b6b601a182cd27...</td>\n",
              "    </tr>\n",
              "  </tbody>\n",
              "</table>\n",
              "</div>\n",
              "      <button class=\"colab-df-convert\" onclick=\"convertToInteractive('df-6de8ebd3-8105-4653-bd60-a14c313def80')\"\n",
              "              title=\"Convert this dataframe to an interactive table.\"\n",
              "              style=\"display:none;\">\n",
              "        \n",
              "  <svg xmlns=\"http://www.w3.org/2000/svg\" height=\"24px\"viewBox=\"0 0 24 24\"\n",
              "       width=\"24px\">\n",
              "    <path d=\"M0 0h24v24H0V0z\" fill=\"none\"/>\n",
              "    <path d=\"M18.56 5.44l.94 2.06.94-2.06 2.06-.94-2.06-.94-.94-2.06-.94 2.06-2.06.94zm-11 1L8.5 8.5l.94-2.06 2.06-.94-2.06-.94L8.5 2.5l-.94 2.06-2.06.94zm10 10l.94 2.06.94-2.06 2.06-.94-2.06-.94-.94-2.06-.94 2.06-2.06.94z\"/><path d=\"M17.41 7.96l-1.37-1.37c-.4-.4-.92-.59-1.43-.59-.52 0-1.04.2-1.43.59L10.3 9.45l-7.72 7.72c-.78.78-.78 2.05 0 2.83L4 21.41c.39.39.9.59 1.41.59.51 0 1.02-.2 1.41-.59l7.78-7.78 2.81-2.81c.8-.78.8-2.07 0-2.86zM5.41 20L4 18.59l7.72-7.72 1.47 1.35L5.41 20z\"/>\n",
              "  </svg>\n",
              "      </button>\n",
              "      \n",
              "  <style>\n",
              "    .colab-df-container {\n",
              "      display:flex;\n",
              "      flex-wrap:wrap;\n",
              "      gap: 12px;\n",
              "    }\n",
              "\n",
              "    .colab-df-convert {\n",
              "      background-color: #E8F0FE;\n",
              "      border: none;\n",
              "      border-radius: 50%;\n",
              "      cursor: pointer;\n",
              "      display: none;\n",
              "      fill: #1967D2;\n",
              "      height: 32px;\n",
              "      padding: 0 0 0 0;\n",
              "      width: 32px;\n",
              "    }\n",
              "\n",
              "    .colab-df-convert:hover {\n",
              "      background-color: #E2EBFA;\n",
              "      box-shadow: 0px 1px 2px rgba(60, 64, 67, 0.3), 0px 1px 3px 1px rgba(60, 64, 67, 0.15);\n",
              "      fill: #174EA6;\n",
              "    }\n",
              "\n",
              "    [theme=dark] .colab-df-convert {\n",
              "      background-color: #3B4455;\n",
              "      fill: #D2E3FC;\n",
              "    }\n",
              "\n",
              "    [theme=dark] .colab-df-convert:hover {\n",
              "      background-color: #434B5C;\n",
              "      box-shadow: 0px 1px 3px 1px rgba(0, 0, 0, 0.15);\n",
              "      filter: drop-shadow(0px 1px 2px rgba(0, 0, 0, 0.3));\n",
              "      fill: #FFFFFF;\n",
              "    }\n",
              "  </style>\n",
              "\n",
              "      <script>\n",
              "        const buttonEl =\n",
              "          document.querySelector('#df-6de8ebd3-8105-4653-bd60-a14c313def80 button.colab-df-convert');\n",
              "        buttonEl.style.display =\n",
              "          google.colab.kernel.accessAllowed ? 'block' : 'none';\n",
              "\n",
              "        async function convertToInteractive(key) {\n",
              "          const element = document.querySelector('#df-6de8ebd3-8105-4653-bd60-a14c313def80');\n",
              "          const dataTable =\n",
              "            await google.colab.kernel.invokeFunction('convertToInteractive',\n",
              "                                                     [key], {});\n",
              "          if (!dataTable) return;\n",
              "\n",
              "          const docLinkHtml = 'Like what you see? Visit the ' +\n",
              "            '<a target=\"_blank\" href=https://colab.research.google.com/notebooks/data_table.ipynb>data table notebook</a>'\n",
              "            + ' to learn more about interactive tables.';\n",
              "          element.innerHTML = '';\n",
              "          dataTable['output_type'] = 'display_data';\n",
              "          await google.colab.output.renderOutput(dataTable, element);\n",
              "          const docLink = document.createElement('div');\n",
              "          docLink.innerHTML = docLinkHtml;\n",
              "          element.appendChild(docLink);\n",
              "        }\n",
              "      </script>\n",
              "    </div>\n",
              "  </div>\n",
              "  "
            ]
          },
          "metadata": {},
          "execution_count": 2
        }
      ],
      "source": [
        "import pandas as pd\n",
        "\n",
        "data = pd.read_json('/content/gdrive/MyDrive/dblpv13.zip', lines = True, chunksize= 200_000)\n",
        "for d in data:\n",
        "  break\n",
        "d.head()"
      ]
    },
    {
      "cell_type": "markdown",
      "source": [
        "#Схема данных\n",
        "\n",
        "Основные поля датасета представлены в таблице"
      ],
      "metadata": {
        "id": "ldEa5KKG2ZzD"
      }
    },
    {
      "cell_type": "code",
      "source": [
        "data_schema = pd.read_csv('/content/gdrive/MyDrive/MADE/data/data schema.csv', header = 0, index_col = 0)\n",
        "data_schema"
      ],
      "metadata": {
        "colab": {
          "base_uri": "https://localhost:8080/",
          "height": 864
        },
        "id": "3-Xpa8dTd77f",
        "outputId": "e40e8912-0277-4672-c234-88e7d41d51d1"
      },
      "execution_count": null,
      "outputs": [
        {
          "output_type": "execute_result",
          "data": {
            "text/plain": [
              "                      Field Type            Description  \\\n",
              "Field Name                                                \n",
              "id                        string               paper ID   \n",
              "title                     string            paper title   \n",
              "authors.name              string            author name   \n",
              "author.org                string     author affiliation   \n",
              "author.id                 string              author ID   \n",
              "Author.gid                string         affiliation_ID   \n",
              "venue.type                   int             paper type   \n",
              "venue.raw                 string       paper venue name   \n",
              "venew.publisher           string         Publisher name   \n",
              "year                         int         published year   \n",
              "keywords         list of strings               keywords   \n",
              "fos.name                    list  paper fields of study   \n",
              "references       list of strings       paper references   \n",
              "n_citation                   int        citation number   \n",
              "page_start                string             page start   \n",
              "page_end                  string               page end   \n",
              "lang                      string      detected language   \n",
              "volume                    string                 volume   \n",
              "issue                     string                  issue   \n",
              "issn                      string                   issn   \n",
              "isbn                      string                   isbn   \n",
              "doi                       string                    doi   \n",
              "pdf                       string                pdf URL   \n",
              "url                         list         external links   \n",
              "abstract                  string               abstract   \n",
              "\n",
              "                                                          Example­  \n",
              "Field Name                                                          \n",
              "id                                        43e17f5b20f7dfbc07e8ac6e  \n",
              "title                         Data mining: concepts and techniques  \n",
              "authors.name                                            Jiawei Han  \n",
              "author.org       Department of Computer Science  University of ...  \n",
              "author.id                                 53f42f36dabfaedce54dcd0c  \n",
              "Author.gid                                5b869d7fe1cd8e14a3a2dc35  \n",
              "venue.type                                                      10  \n",
              "venue.raw        Inteligencia Artificial  Revista Iberoamerican...  \n",
              "venew.publisher                                           Elsevier  \n",
              "year                                                          2000  \n",
              "keywords         [\"data mining\", \"structured data\", \"world wide...  \n",
              "fos.name                                         [Computer science  \n",
              "references       [\"4909282\", \"16018031\", \"16159250\",  \"19838944...  \n",
              "n_citation                                                   40829  \n",
              "page_start                                                      11  \n",
              "page_end                                                        18  \n",
              "lang                                                            en  \n",
              "volume                                                          10  \n",
              "issue                                                           29  \n",
              "issn                                                     0020-7136  \n",
              "isbn                                                 1-55860-489-8  \n",
              "doi                                          10.4114/ia.v10i29.873  \n",
              "pdf              //static.aminer.org/upload/pdf/1254/ 370/239/5...  \n",
              "url              [\"http://dx.doi.org/10.4114/ia.v10i29.873\", \"h...  \n",
              "abstract                                Our ability to generate...  "
            ],
            "text/html": [
              "\n",
              "  <div id=\"df-6cf2e0f0-e63c-4273-8838-59300cbd44ab\">\n",
              "    <div class=\"colab-df-container\">\n",
              "      <div>\n",
              "<style scoped>\n",
              "    .dataframe tbody tr th:only-of-type {\n",
              "        vertical-align: middle;\n",
              "    }\n",
              "\n",
              "    .dataframe tbody tr th {\n",
              "        vertical-align: top;\n",
              "    }\n",
              "\n",
              "    .dataframe thead th {\n",
              "        text-align: right;\n",
              "    }\n",
              "</style>\n",
              "<table border=\"1\" class=\"dataframe\">\n",
              "  <thead>\n",
              "    <tr style=\"text-align: right;\">\n",
              "      <th></th>\n",
              "      <th>Field Type</th>\n",
              "      <th>Description</th>\n",
              "      <th>Example­</th>\n",
              "    </tr>\n",
              "    <tr>\n",
              "      <th>Field Name</th>\n",
              "      <th></th>\n",
              "      <th></th>\n",
              "      <th></th>\n",
              "    </tr>\n",
              "  </thead>\n",
              "  <tbody>\n",
              "    <tr>\n",
              "      <th>id</th>\n",
              "      <td>string</td>\n",
              "      <td>paper ID</td>\n",
              "      <td>43e17f5b20f7dfbc07e8ac6e</td>\n",
              "    </tr>\n",
              "    <tr>\n",
              "      <th>title</th>\n",
              "      <td>string</td>\n",
              "      <td>paper title</td>\n",
              "      <td>Data mining: concepts and techniques</td>\n",
              "    </tr>\n",
              "    <tr>\n",
              "      <th>authors.name</th>\n",
              "      <td>string</td>\n",
              "      <td>author name</td>\n",
              "      <td>Jiawei Han</td>\n",
              "    </tr>\n",
              "    <tr>\n",
              "      <th>author.org</th>\n",
              "      <td>string</td>\n",
              "      <td>author affiliation</td>\n",
              "      <td>Department of Computer Science  University of ...</td>\n",
              "    </tr>\n",
              "    <tr>\n",
              "      <th>author.id</th>\n",
              "      <td>string</td>\n",
              "      <td>author ID</td>\n",
              "      <td>53f42f36dabfaedce54dcd0c</td>\n",
              "    </tr>\n",
              "    <tr>\n",
              "      <th>Author.gid</th>\n",
              "      <td>string</td>\n",
              "      <td>affiliation_ID</td>\n",
              "      <td>5b869d7fe1cd8e14a3a2dc35</td>\n",
              "    </tr>\n",
              "    <tr>\n",
              "      <th>venue.type</th>\n",
              "      <td>int</td>\n",
              "      <td>paper type</td>\n",
              "      <td>10</td>\n",
              "    </tr>\n",
              "    <tr>\n",
              "      <th>venue.raw</th>\n",
              "      <td>string</td>\n",
              "      <td>paper venue name</td>\n",
              "      <td>Inteligencia Artificial  Revista Iberoamerican...</td>\n",
              "    </tr>\n",
              "    <tr>\n",
              "      <th>venew.publisher</th>\n",
              "      <td>string</td>\n",
              "      <td>Publisher name</td>\n",
              "      <td>Elsevier</td>\n",
              "    </tr>\n",
              "    <tr>\n",
              "      <th>year</th>\n",
              "      <td>int</td>\n",
              "      <td>published year</td>\n",
              "      <td>2000</td>\n",
              "    </tr>\n",
              "    <tr>\n",
              "      <th>keywords</th>\n",
              "      <td>list of strings</td>\n",
              "      <td>keywords</td>\n",
              "      <td>[\"data mining\", \"structured data\", \"world wide...</td>\n",
              "    </tr>\n",
              "    <tr>\n",
              "      <th>fos.name</th>\n",
              "      <td>list</td>\n",
              "      <td>paper fields of study</td>\n",
              "      <td>[Computer science</td>\n",
              "    </tr>\n",
              "    <tr>\n",
              "      <th>references</th>\n",
              "      <td>list of strings</td>\n",
              "      <td>paper references</td>\n",
              "      <td>[\"4909282\", \"16018031\", \"16159250\",  \"19838944...</td>\n",
              "    </tr>\n",
              "    <tr>\n",
              "      <th>n_citation</th>\n",
              "      <td>int</td>\n",
              "      <td>citation number</td>\n",
              "      <td>40829</td>\n",
              "    </tr>\n",
              "    <tr>\n",
              "      <th>page_start</th>\n",
              "      <td>string</td>\n",
              "      <td>page start</td>\n",
              "      <td>11</td>\n",
              "    </tr>\n",
              "    <tr>\n",
              "      <th>page_end</th>\n",
              "      <td>string</td>\n",
              "      <td>page end</td>\n",
              "      <td>18</td>\n",
              "    </tr>\n",
              "    <tr>\n",
              "      <th>lang</th>\n",
              "      <td>string</td>\n",
              "      <td>detected language</td>\n",
              "      <td>en</td>\n",
              "    </tr>\n",
              "    <tr>\n",
              "      <th>volume</th>\n",
              "      <td>string</td>\n",
              "      <td>volume</td>\n",
              "      <td>10</td>\n",
              "    </tr>\n",
              "    <tr>\n",
              "      <th>issue</th>\n",
              "      <td>string</td>\n",
              "      <td>issue</td>\n",
              "      <td>29</td>\n",
              "    </tr>\n",
              "    <tr>\n",
              "      <th>issn</th>\n",
              "      <td>string</td>\n",
              "      <td>issn</td>\n",
              "      <td>0020-7136</td>\n",
              "    </tr>\n",
              "    <tr>\n",
              "      <th>isbn</th>\n",
              "      <td>string</td>\n",
              "      <td>isbn</td>\n",
              "      <td>1-55860-489-8</td>\n",
              "    </tr>\n",
              "    <tr>\n",
              "      <th>doi</th>\n",
              "      <td>string</td>\n",
              "      <td>doi</td>\n",
              "      <td>10.4114/ia.v10i29.873</td>\n",
              "    </tr>\n",
              "    <tr>\n",
              "      <th>pdf</th>\n",
              "      <td>string</td>\n",
              "      <td>pdf URL</td>\n",
              "      <td>//static.aminer.org/upload/pdf/1254/ 370/239/5...</td>\n",
              "    </tr>\n",
              "    <tr>\n",
              "      <th>url</th>\n",
              "      <td>list</td>\n",
              "      <td>external links</td>\n",
              "      <td>[\"http://dx.doi.org/10.4114/ia.v10i29.873\", \"h...</td>\n",
              "    </tr>\n",
              "    <tr>\n",
              "      <th>abstract</th>\n",
              "      <td>string</td>\n",
              "      <td>abstract</td>\n",
              "      <td>Our ability to generate...</td>\n",
              "    </tr>\n",
              "  </tbody>\n",
              "</table>\n",
              "</div>\n",
              "      <button class=\"colab-df-convert\" onclick=\"convertToInteractive('df-6cf2e0f0-e63c-4273-8838-59300cbd44ab')\"\n",
              "              title=\"Convert this dataframe to an interactive table.\"\n",
              "              style=\"display:none;\">\n",
              "        \n",
              "  <svg xmlns=\"http://www.w3.org/2000/svg\" height=\"24px\"viewBox=\"0 0 24 24\"\n",
              "       width=\"24px\">\n",
              "    <path d=\"M0 0h24v24H0V0z\" fill=\"none\"/>\n",
              "    <path d=\"M18.56 5.44l.94 2.06.94-2.06 2.06-.94-2.06-.94-.94-2.06-.94 2.06-2.06.94zm-11 1L8.5 8.5l.94-2.06 2.06-.94-2.06-.94L8.5 2.5l-.94 2.06-2.06.94zm10 10l.94 2.06.94-2.06 2.06-.94-2.06-.94-.94-2.06-.94 2.06-2.06.94z\"/><path d=\"M17.41 7.96l-1.37-1.37c-.4-.4-.92-.59-1.43-.59-.52 0-1.04.2-1.43.59L10.3 9.45l-7.72 7.72c-.78.78-.78 2.05 0 2.83L4 21.41c.39.39.9.59 1.41.59.51 0 1.02-.2 1.41-.59l7.78-7.78 2.81-2.81c.8-.78.8-2.07 0-2.86zM5.41 20L4 18.59l7.72-7.72 1.47 1.35L5.41 20z\"/>\n",
              "  </svg>\n",
              "      </button>\n",
              "      \n",
              "  <style>\n",
              "    .colab-df-container {\n",
              "      display:flex;\n",
              "      flex-wrap:wrap;\n",
              "      gap: 12px;\n",
              "    }\n",
              "\n",
              "    .colab-df-convert {\n",
              "      background-color: #E8F0FE;\n",
              "      border: none;\n",
              "      border-radius: 50%;\n",
              "      cursor: pointer;\n",
              "      display: none;\n",
              "      fill: #1967D2;\n",
              "      height: 32px;\n",
              "      padding: 0 0 0 0;\n",
              "      width: 32px;\n",
              "    }\n",
              "\n",
              "    .colab-df-convert:hover {\n",
              "      background-color: #E2EBFA;\n",
              "      box-shadow: 0px 1px 2px rgba(60, 64, 67, 0.3), 0px 1px 3px 1px rgba(60, 64, 67, 0.15);\n",
              "      fill: #174EA6;\n",
              "    }\n",
              "\n",
              "    [theme=dark] .colab-df-convert {\n",
              "      background-color: #3B4455;\n",
              "      fill: #D2E3FC;\n",
              "    }\n",
              "\n",
              "    [theme=dark] .colab-df-convert:hover {\n",
              "      background-color: #434B5C;\n",
              "      box-shadow: 0px 1px 3px 1px rgba(0, 0, 0, 0.15);\n",
              "      filter: drop-shadow(0px 1px 2px rgba(0, 0, 0, 0.3));\n",
              "      fill: #FFFFFF;\n",
              "    }\n",
              "  </style>\n",
              "\n",
              "      <script>\n",
              "        const buttonEl =\n",
              "          document.querySelector('#df-6cf2e0f0-e63c-4273-8838-59300cbd44ab button.colab-df-convert');\n",
              "        buttonEl.style.display =\n",
              "          google.colab.kernel.accessAllowed ? 'block' : 'none';\n",
              "\n",
              "        async function convertToInteractive(key) {\n",
              "          const element = document.querySelector('#df-6cf2e0f0-e63c-4273-8838-59300cbd44ab');\n",
              "          const dataTable =\n",
              "            await google.colab.kernel.invokeFunction('convertToInteractive',\n",
              "                                                     [key], {});\n",
              "          if (!dataTable) return;\n",
              "\n",
              "          const docLinkHtml = 'Like what you see? Visit the ' +\n",
              "            '<a target=\"_blank\" href=https://colab.research.google.com/notebooks/data_table.ipynb>data table notebook</a>'\n",
              "            + ' to learn more about interactive tables.';\n",
              "          element.innerHTML = '';\n",
              "          dataTable['output_type'] = 'display_data';\n",
              "          await google.colab.output.renderOutput(dataTable, element);\n",
              "          const docLink = document.createElement('div');\n",
              "          docLink.innerHTML = docLinkHtml;\n",
              "          element.appendChild(docLink);\n",
              "        }\n",
              "      </script>\n",
              "    </div>\n",
              "  </div>\n",
              "  "
            ]
          },
          "metadata": {},
          "execution_count": 17
        }
      ]
    },
    {
      "cell_type": "markdown",
      "source": [
        "# Анализ дубликатов и пропущенных значений"
      ],
      "metadata": {
        "id": "ZIPDH81CyKxW"
      }
    },
    {
      "cell_type": "markdown",
      "source": [
        "Для обработки наших данных разбитых на более мелкие файлы воспользуемся библиотекой Dask"
      ],
      "metadata": {
        "id": "t5vgmBfYyiT9"
      }
    },
    {
      "cell_type": "code",
      "source": [
        "!pip install dask"
      ],
      "metadata": {
        "colab": {
          "base_uri": "https://localhost:8080/"
        },
        "id": "dmaum1Ea1aUD",
        "outputId": "2b9e7327-7db7-4be6-f627-a0d6af43b05f"
      },
      "execution_count": null,
      "outputs": [
        {
          "output_type": "stream",
          "name": "stdout",
          "text": [
            "Looking in indexes: https://pypi.org/simple, https://us-python.pkg.dev/colab-wheels/public/simple/\n",
            "Requirement already satisfied: dask in /usr/local/lib/python3.7/dist-packages (2022.2.0)\n",
            "Requirement already satisfied: toolz>=0.8.2 in /usr/local/lib/python3.7/dist-packages (from dask) (0.12.0)\n",
            "Requirement already satisfied: cloudpickle>=1.1.1 in /usr/local/lib/python3.7/dist-packages (from dask) (1.5.0)\n",
            "Requirement already satisfied: pyyaml>=5.3.1 in /usr/local/lib/python3.7/dist-packages (from dask) (6.0)\n",
            "Requirement already satisfied: packaging>=20.0 in /usr/local/lib/python3.7/dist-packages (from dask) (21.3)\n",
            "Requirement already satisfied: partd>=0.3.10 in /usr/local/lib/python3.7/dist-packages (from dask) (1.3.0)\n",
            "Requirement already satisfied: fsspec>=0.6.0 in /usr/local/lib/python3.7/dist-packages (from dask) (2022.8.2)\n",
            "Requirement already satisfied: pyparsing!=3.0.5,>=2.0.2 in /usr/local/lib/python3.7/dist-packages (from packaging>=20.0->dask) (3.0.9)\n",
            "Requirement already satisfied: locket in /usr/local/lib/python3.7/dist-packages (from partd>=0.3.10->dask) (1.0.0)\n"
          ]
        }
      ]
    },
    {
      "cell_type": "code",
      "source": [
        "import io\n",
        "import json\n",
        "import dask\n",
        "import dask.dataframe as dd\n",
        "from dask.distributed import progress\n",
        "from dask.diagnostics import ProgressBar\n",
        "\n",
        "import matplotlib.pyplot as plt"
      ],
      "metadata": {
        "id": "JgyQvY8X1cUU"
      },
      "execution_count": null,
      "outputs": []
    },
    {
      "cell_type": "markdown",
      "source": [
        "## Анализ дубликатов"
      ],
      "metadata": {
        "id": "bKDceKCsvLu-"
      }
    },
    {
      "cell_type": "markdown",
      "source": [
        "Загружаем все файлы, в которых мы сохранили данные со следующими полями  \n",
        "*  _id\t\n",
        "*  title\t\n",
        "*  year\t\n",
        "*  authors\t\n",
        "*  doi\n",
        "\n",
        "**doi** определяет уникальность статей, однако это поле присутствует не у всех записей, поэтому кроме **doi** мы будем анализировать уникальность статей по всем вышеперечисленным полям\n",
        "\n",
        "\n",
        "\n"
      ],
      "metadata": {
        "id": "WhLV5VWayuEv"
      }
    },
    {
      "cell_type": "code",
      "source": [
        "from pandas.io.parsers.readers import is_index_col\n",
        "ddf = dd.read_csv(\"/content/gdrive/MyDrive/MADE/data/id_title_authors_id_*.csv\", dtype={'Unnamed: 0': 'object', 'title': 'str', 'year': 'object', 'authors': 'object', 'doi': 'str'})\n",
        "ddf.set_index('Unnamed: 0')"
      ],
      "metadata": {
        "colab": {
          "base_uri": "https://localhost:8080/",
          "height": 272
        },
        "id": "1-5u7Vcg1fvH",
        "outputId": "864df78d-b43a-4123-8ac0-9029c9d6a166"
      },
      "execution_count": null,
      "outputs": [
        {
          "output_type": "execute_result",
          "data": {
            "text/plain": [
              "Dask DataFrame Structure:\n",
              "                        _id   title    year authors     doi\n",
              "npartitions=51                                             \n",
              "0                    object  object  object  object  object\n",
              "1087211                 ...     ...     ...     ...     ...\n",
              "...                     ...     ...     ...     ...     ...\n",
              "900836                  ...     ...     ...     ...     ...\n",
              "m{hat L}} Features.     ...     ...     ...     ...     ...\n",
              "Dask Name: sort_index, 410 tasks"
            ],
            "text/html": [
              "<div><strong>Dask DataFrame Structure:</strong></div>\n",
              "<div>\n",
              "<style scoped>\n",
              "    .dataframe tbody tr th:only-of-type {\n",
              "        vertical-align: middle;\n",
              "    }\n",
              "\n",
              "    .dataframe tbody tr th {\n",
              "        vertical-align: top;\n",
              "    }\n",
              "\n",
              "    .dataframe thead th {\n",
              "        text-align: right;\n",
              "    }\n",
              "</style>\n",
              "<table border=\"1\" class=\"dataframe\">\n",
              "  <thead>\n",
              "    <tr style=\"text-align: right;\">\n",
              "      <th></th>\n",
              "      <th>_id</th>\n",
              "      <th>title</th>\n",
              "      <th>year</th>\n",
              "      <th>authors</th>\n",
              "      <th>doi</th>\n",
              "    </tr>\n",
              "    <tr>\n",
              "      <th>npartitions=51</th>\n",
              "      <th></th>\n",
              "      <th></th>\n",
              "      <th></th>\n",
              "      <th></th>\n",
              "      <th></th>\n",
              "    </tr>\n",
              "  </thead>\n",
              "  <tbody>\n",
              "    <tr>\n",
              "      <th>0</th>\n",
              "      <td>object</td>\n",
              "      <td>object</td>\n",
              "      <td>object</td>\n",
              "      <td>object</td>\n",
              "      <td>object</td>\n",
              "    </tr>\n",
              "    <tr>\n",
              "      <th>1087211</th>\n",
              "      <td>...</td>\n",
              "      <td>...</td>\n",
              "      <td>...</td>\n",
              "      <td>...</td>\n",
              "      <td>...</td>\n",
              "    </tr>\n",
              "    <tr>\n",
              "      <th>...</th>\n",
              "      <td>...</td>\n",
              "      <td>...</td>\n",
              "      <td>...</td>\n",
              "      <td>...</td>\n",
              "      <td>...</td>\n",
              "    </tr>\n",
              "    <tr>\n",
              "      <th>900836</th>\n",
              "      <td>...</td>\n",
              "      <td>...</td>\n",
              "      <td>...</td>\n",
              "      <td>...</td>\n",
              "      <td>...</td>\n",
              "    </tr>\n",
              "    <tr>\n",
              "      <th>m{hat L}} Features.</th>\n",
              "      <td>...</td>\n",
              "      <td>...</td>\n",
              "      <td>...</td>\n",
              "      <td>...</td>\n",
              "      <td>...</td>\n",
              "    </tr>\n",
              "  </tbody>\n",
              "</table>\n",
              "</div>\n",
              "<div>Dask Name: sort_index, 410 tasks</div>"
            ]
          },
          "metadata": {},
          "execution_count": 7
        }
      ]
    },
    {
      "cell_type": "code",
      "source": [
        "ddf.head()"
      ],
      "metadata": {
        "colab": {
          "base_uri": "https://localhost:8080/",
          "height": 206
        },
        "id": "S7HtLLNK10G1",
        "outputId": "72ff0bd9-2965-4d44-f28f-91a827e6379f"
      },
      "execution_count": null,
      "outputs": [
        {
          "output_type": "execute_result",
          "data": {
            "text/plain": [
              "  Unnamed: 0                       _id  \\\n",
              "0          0  53e99784b7602d9701f3e3f5   \n",
              "1          1  53e99784b7602d9701f3e133   \n",
              "2          2  53e99784b7602d9701f3e151   \n",
              "3          3  53e99784b7602d9701f3e15d   \n",
              "4          4  53e99784b7602d9701f3e161   \n",
              "\n",
              "                                               title    year  \\\n",
              "0                                              3GIO.  2011.0   \n",
              "1  The relationship between canopy parameters and...  2011.0   \n",
              "2  A solution to the problem of touching and brok...  1993.0   \n",
              "3  Timing yield estimation using statistical stat...  2005.0   \n",
              "4                                               360°  2009.0   \n",
              "\n",
              "                                             authors  \\\n",
              "0                                                NaN   \n",
              "1  [{'_id': '53f45728dabfaec09f209538', 'name': '...   \n",
              "2  [{'_id': '53f46797dabfaeb22f542630', 'name': '...   \n",
              "3  [{'_id': '53f43b03dabfaedce555bf2a', 'name': '...   \n",
              "4  [{'_id': '53f46946dabfaec09f24b4ed', 'name': '...   \n",
              "\n",
              "                           doi  \n",
              "0                          NaN  \n",
              "1  10.1109/IGARSS.2011.6049503  \n",
              "2    10.1109/ICDAR.1993.395663  \n",
              "3   10.1109/ISCAS.2005.1465124  \n",
              "4      10.1145/1665137.1665166  "
            ],
            "text/html": [
              "\n",
              "  <div id=\"df-018cb8e6-6113-4d41-9a7c-febf86c2f8d2\">\n",
              "    <div class=\"colab-df-container\">\n",
              "      <div>\n",
              "<style scoped>\n",
              "    .dataframe tbody tr th:only-of-type {\n",
              "        vertical-align: middle;\n",
              "    }\n",
              "\n",
              "    .dataframe tbody tr th {\n",
              "        vertical-align: top;\n",
              "    }\n",
              "\n",
              "    .dataframe thead th {\n",
              "        text-align: right;\n",
              "    }\n",
              "</style>\n",
              "<table border=\"1\" class=\"dataframe\">\n",
              "  <thead>\n",
              "    <tr style=\"text-align: right;\">\n",
              "      <th></th>\n",
              "      <th>Unnamed: 0</th>\n",
              "      <th>_id</th>\n",
              "      <th>title</th>\n",
              "      <th>year</th>\n",
              "      <th>authors</th>\n",
              "      <th>doi</th>\n",
              "    </tr>\n",
              "  </thead>\n",
              "  <tbody>\n",
              "    <tr>\n",
              "      <th>0</th>\n",
              "      <td>0</td>\n",
              "      <td>53e99784b7602d9701f3e3f5</td>\n",
              "      <td>3GIO.</td>\n",
              "      <td>2011.0</td>\n",
              "      <td>NaN</td>\n",
              "      <td>NaN</td>\n",
              "    </tr>\n",
              "    <tr>\n",
              "      <th>1</th>\n",
              "      <td>1</td>\n",
              "      <td>53e99784b7602d9701f3e133</td>\n",
              "      <td>The relationship between canopy parameters and...</td>\n",
              "      <td>2011.0</td>\n",
              "      <td>[{'_id': '53f45728dabfaec09f209538', 'name': '...</td>\n",
              "      <td>10.1109/IGARSS.2011.6049503</td>\n",
              "    </tr>\n",
              "    <tr>\n",
              "      <th>2</th>\n",
              "      <td>2</td>\n",
              "      <td>53e99784b7602d9701f3e151</td>\n",
              "      <td>A solution to the problem of touching and brok...</td>\n",
              "      <td>1993.0</td>\n",
              "      <td>[{'_id': '53f46797dabfaeb22f542630', 'name': '...</td>\n",
              "      <td>10.1109/ICDAR.1993.395663</td>\n",
              "    </tr>\n",
              "    <tr>\n",
              "      <th>3</th>\n",
              "      <td>3</td>\n",
              "      <td>53e99784b7602d9701f3e15d</td>\n",
              "      <td>Timing yield estimation using statistical stat...</td>\n",
              "      <td>2005.0</td>\n",
              "      <td>[{'_id': '53f43b03dabfaedce555bf2a', 'name': '...</td>\n",
              "      <td>10.1109/ISCAS.2005.1465124</td>\n",
              "    </tr>\n",
              "    <tr>\n",
              "      <th>4</th>\n",
              "      <td>4</td>\n",
              "      <td>53e99784b7602d9701f3e161</td>\n",
              "      <td>360°</td>\n",
              "      <td>2009.0</td>\n",
              "      <td>[{'_id': '53f46946dabfaec09f24b4ed', 'name': '...</td>\n",
              "      <td>10.1145/1665137.1665166</td>\n",
              "    </tr>\n",
              "  </tbody>\n",
              "</table>\n",
              "</div>\n",
              "      <button class=\"colab-df-convert\" onclick=\"convertToInteractive('df-018cb8e6-6113-4d41-9a7c-febf86c2f8d2')\"\n",
              "              title=\"Convert this dataframe to an interactive table.\"\n",
              "              style=\"display:none;\">\n",
              "        \n",
              "  <svg xmlns=\"http://www.w3.org/2000/svg\" height=\"24px\"viewBox=\"0 0 24 24\"\n",
              "       width=\"24px\">\n",
              "    <path d=\"M0 0h24v24H0V0z\" fill=\"none\"/>\n",
              "    <path d=\"M18.56 5.44l.94 2.06.94-2.06 2.06-.94-2.06-.94-.94-2.06-.94 2.06-2.06.94zm-11 1L8.5 8.5l.94-2.06 2.06-.94-2.06-.94L8.5 2.5l-.94 2.06-2.06.94zm10 10l.94 2.06.94-2.06 2.06-.94-2.06-.94-.94-2.06-.94 2.06-2.06.94z\"/><path d=\"M17.41 7.96l-1.37-1.37c-.4-.4-.92-.59-1.43-.59-.52 0-1.04.2-1.43.59L10.3 9.45l-7.72 7.72c-.78.78-.78 2.05 0 2.83L4 21.41c.39.39.9.59 1.41.59.51 0 1.02-.2 1.41-.59l7.78-7.78 2.81-2.81c.8-.78.8-2.07 0-2.86zM5.41 20L4 18.59l7.72-7.72 1.47 1.35L5.41 20z\"/>\n",
              "  </svg>\n",
              "      </button>\n",
              "      \n",
              "  <style>\n",
              "    .colab-df-container {\n",
              "      display:flex;\n",
              "      flex-wrap:wrap;\n",
              "      gap: 12px;\n",
              "    }\n",
              "\n",
              "    .colab-df-convert {\n",
              "      background-color: #E8F0FE;\n",
              "      border: none;\n",
              "      border-radius: 50%;\n",
              "      cursor: pointer;\n",
              "      display: none;\n",
              "      fill: #1967D2;\n",
              "      height: 32px;\n",
              "      padding: 0 0 0 0;\n",
              "      width: 32px;\n",
              "    }\n",
              "\n",
              "    .colab-df-convert:hover {\n",
              "      background-color: #E2EBFA;\n",
              "      box-shadow: 0px 1px 2px rgba(60, 64, 67, 0.3), 0px 1px 3px 1px rgba(60, 64, 67, 0.15);\n",
              "      fill: #174EA6;\n",
              "    }\n",
              "\n",
              "    [theme=dark] .colab-df-convert {\n",
              "      background-color: #3B4455;\n",
              "      fill: #D2E3FC;\n",
              "    }\n",
              "\n",
              "    [theme=dark] .colab-df-convert:hover {\n",
              "      background-color: #434B5C;\n",
              "      box-shadow: 0px 1px 3px 1px rgba(0, 0, 0, 0.15);\n",
              "      filter: drop-shadow(0px 1px 2px rgba(0, 0, 0, 0.3));\n",
              "      fill: #FFFFFF;\n",
              "    }\n",
              "  </style>\n",
              "\n",
              "      <script>\n",
              "        const buttonEl =\n",
              "          document.querySelector('#df-018cb8e6-6113-4d41-9a7c-febf86c2f8d2 button.colab-df-convert');\n",
              "        buttonEl.style.display =\n",
              "          google.colab.kernel.accessAllowed ? 'block' : 'none';\n",
              "\n",
              "        async function convertToInteractive(key) {\n",
              "          const element = document.querySelector('#df-018cb8e6-6113-4d41-9a7c-febf86c2f8d2');\n",
              "          const dataTable =\n",
              "            await google.colab.kernel.invokeFunction('convertToInteractive',\n",
              "                                                     [key], {});\n",
              "          if (!dataTable) return;\n",
              "\n",
              "          const docLinkHtml = 'Like what you see? Visit the ' +\n",
              "            '<a target=\"_blank\" href=https://colab.research.google.com/notebooks/data_table.ipynb>data table notebook</a>'\n",
              "            + ' to learn more about interactive tables.';\n",
              "          element.innerHTML = '';\n",
              "          dataTable['output_type'] = 'display_data';\n",
              "          await google.colab.output.renderOutput(dataTable, element);\n",
              "          const docLink = document.createElement('div');\n",
              "          docLink.innerHTML = docLinkHtml;\n",
              "          element.appendChild(docLink);\n",
              "        }\n",
              "      </script>\n",
              "    </div>\n",
              "  </div>\n",
              "  "
            ]
          },
          "metadata": {},
          "execution_count": 42
        }
      ]
    },
    {
      "cell_type": "markdown",
      "source": [
        "Проанализируем количество отсутствующих элементов в каждом столбце таблицы"
      ],
      "metadata": {
        "id": "Wzg7LJQ90mE8"
      }
    },
    {
      "cell_type": "code",
      "source": [
        "ddf.notnull().sum().compute()"
      ],
      "metadata": {
        "id": "3WBztgGMVdOq",
        "colab": {
          "base_uri": "https://localhost:8080/"
        },
        "outputId": "e74fb312-d525-45a5-b6b9-97b6e9ef8349"
      },
      "execution_count": null,
      "outputs": [
        {
          "output_type": "execute_result",
          "data": {
            "text/plain": [
              "Unnamed: 0    5354329\n",
              "_id           5354326\n",
              "title         5353935\n",
              "year          5349365\n",
              "authors       5346143\n",
              "doi           3994553\n",
              "dtype: int64"
            ]
          },
          "metadata": {},
          "execution_count": 9
        }
      ]
    },
    {
      "cell_type": "markdown",
      "source": [
        "Функция **size** считает число ячеек в таблице, зная количество столбцов, можем найти число строк"
      ],
      "metadata": {
        "id": "lucU6eRt9uWG"
      }
    },
    {
      "cell_type": "code",
      "source": [
        "with ProgressBar():\n",
        "  row_count = ddf.size.compute()\n",
        "print(row_count)"
      ],
      "metadata": {
        "colab": {
          "base_uri": "https://localhost:8080/"
        },
        "id": "Sw3p5NBJ8rdx",
        "outputId": "9184a9f7-d7f4-4f49-af10-6a362b85f7e6"
      },
      "execution_count": null,
      "outputs": [
        {
          "output_type": "stream",
          "name": "stdout",
          "text": [
            "[########################################] | 100% Completed | 43.9s\n",
            "32125974\n"
          ]
        }
      ]
    },
    {
      "cell_type": "code",
      "source": [
        "#Row number\n",
        "print(int(row_count/6))\n"
      ],
      "metadata": {
        "colab": {
          "base_uri": "https://localhost:8080/"
        },
        "id": "2Fco9kxV9pb3",
        "outputId": "acda573e-fa84-4b7b-eff5-7ddc797a352a"
      },
      "execution_count": null,
      "outputs": [
        {
          "output_type": "stream",
          "name": "stdout",
          "text": [
            "5354329\n"
          ]
        }
      ]
    },
    {
      "cell_type": "markdown",
      "source": [
        "Находим дубликаты по полям 'title', 'authors' and 'year'. Найдено 1 177 дубликатов"
      ],
      "metadata": {
        "id": "ht7RZoB1-uWH"
      }
    },
    {
      "cell_type": "code",
      "source": [
        "ddf_new = ddf.drop_duplicates(subset = ['title', 'year', 'authors'])\n",
        "new_ids = ddf_new['_id']\n",
        "with ProgressBar():\n",
        "  new_size = new_ids.size.compute()"
      ],
      "metadata": {
        "colab": {
          "base_uri": "https://localhost:8080/"
        },
        "id": "29DzlK0L2PyT",
        "outputId": "4689766c-4ee5-46ed-f955-6b281e77de83"
      },
      "execution_count": null,
      "outputs": [
        {
          "output_type": "stream",
          "name": "stdout",
          "text": [
            "[########################################] | 100% Completed |  1min  8.5s\n"
          ]
        }
      ]
    },
    {
      "cell_type": "code",
      "source": [
        "print('New size',new_size)\n",
        "print('Number of duplicates', int(row_count/6) - new_size)"
      ],
      "metadata": {
        "colab": {
          "base_uri": "https://localhost:8080/"
        },
        "id": "rIPRUNVj2jxC",
        "outputId": "3208a192-3d1e-438b-f8dc-d0799260876c"
      },
      "execution_count": null,
      "outputs": [
        {
          "output_type": "stream",
          "name": "stdout",
          "text": [
            "New size 5353152\n",
            "Number of duplicates 1177\n"
          ]
        }
      ]
    },
    {
      "cell_type": "markdown",
      "source": [
        "Удаляем из таблицы строки с пустым значение в поле **doi**, чтобы найти дубликаты по **doi** и выводим количество строк новой таблицы"
      ],
      "metadata": {
        "id": "Kqt6ncCx-Nny"
      }
    },
    {
      "cell_type": "code",
      "source": [
        "clean_data = ddf_new.dropna(subset = ['doi'])\n",
        "with ProgressBar():\n",
        "  row_count_without_na = clean_data['_id'].size.compute()\n",
        "\n",
        "print(row_count_without_na)\n",
        "\n"
      ],
      "metadata": {
        "colab": {
          "base_uri": "https://localhost:8080/"
        },
        "id": "RZmptyyM5-lK",
        "outputId": "d35325de-41b1-4afe-afcc-a982be89d4ae"
      },
      "execution_count": null,
      "outputs": [
        {
          "output_type": "stream",
          "name": "stdout",
          "text": [
            "[########################################] | 100% Completed |  1min 10.0s\n",
            "3993998\n"
          ]
        }
      ]
    },
    {
      "cell_type": "markdown",
      "source": [
        "Удаляем дубликаты по признаку **doi** и выводим количество строк новой таблицы"
      ],
      "metadata": {
        "id": "YQ2DYKnI-cfD"
      }
    },
    {
      "cell_type": "code",
      "source": [
        "data_no_duplicates = clean_data.drop_duplicates(subset = ['doi'])\n",
        "no_doi_duplicates = data_no_duplicates['_id']\n",
        "\n",
        "with ProgressBar():\n",
        "  row_count_no_duplicates = no_doi_duplicates.size.compute()\n",
        "\n",
        "print(\"Number of rows without duplicates\",row_count_no_duplicates)"
      ],
      "metadata": {
        "colab": {
          "base_uri": "https://localhost:8080/"
        },
        "id": "kabpEgdK-K6M",
        "outputId": "409ae046-663d-4486-8fdf-54f45dbb22f1"
      },
      "execution_count": null,
      "outputs": [
        {
          "output_type": "stream",
          "name": "stdout",
          "text": [
            "[########################################] | 100% Completed |  1min 15.8s\n",
            "Number of rows without duplicates 3941554\n"
          ]
        }
      ]
    },
    {
      "cell_type": "markdown",
      "source": [
        "Теперь мы можем найти **id** всех дубликатов в нашем датасете: \n"
      ],
      "metadata": {
        "id": "CLLfZXPXORY6"
      }
    },
    {
      "cell_type": "code",
      "source": [
        "duplicates_id = (set(ddf['_id']) - set(ddf_new['_id'])) | (set(clean_data['_id']) - set(no_doi_duplicates)) "
      ],
      "metadata": {
        "id": "2emLmUZuLqcR"
      },
      "execution_count": null,
      "outputs": []
    },
    {
      "cell_type": "code",
      "source": [
        "print('Number of duplicates', len(duplicates_id))"
      ],
      "metadata": {
        "colab": {
          "base_uri": "https://localhost:8080/"
        },
        "id": "1GOg_yxWU51y",
        "outputId": "0aa9c9ba-beb8-4598-b27c-f38a64bd9070"
      },
      "execution_count": null,
      "outputs": [
        {
          "output_type": "stream",
          "name": "stdout",
          "text": [
            "Number of duplicates 53619\n"
          ]
        }
      ]
    },
    {
      "cell_type": "code",
      "source": [
        "pd.DataFrame(list(duplicates_id), columns = ['_id']).to_csv('/content/gdrive/MyDrive/MADE/data/duplicates_ids.csv')"
      ],
      "metadata": {
        "id": "czH76fa6OlLL"
      },
      "execution_count": null,
      "outputs": []
    },
    {
      "cell_type": "markdown",
      "source": [
        "## Анализ пропущенных значений "
      ],
      "metadata": {
        "id": "df6a_OQk1cCZ"
      }
    },
    {
      "cell_type": "code",
      "source": [
        "nans_dict = {}\n",
        "\n",
        "for column in d.columns:\n",
        "  nans_dict[f'{column}'] = 0\n",
        "\n",
        "for d in data:\n",
        "  for column in d.columns:\n",
        "    nans_dict[f'{column}'] += d[f'{column}'].isna().sum()\n",
        "\n",
        "# new_size = 5353152\n",
        "\n",
        "nans_dict = {column: 100 * value / new_size for column, value in nans_dict.items()}\n",
        "nans_dict = dict(sorted(nans_dict.items(), key=lambda item: item[1]))\n",
        "\n",
        "nans_dict"
      ],
      "metadata": {
        "id": "jrgVgdZb1hQj",
        "colab": {
          "base_uri": "https://localhost:8080/"
        },
        "outputId": "984f9332-84d4-4ae0-a1cf-d2d3483b481e"
      },
      "execution_count": null,
      "outputs": [
        {
          "output_type": "execute_result",
          "data": {
            "text/plain": [
              "{'_id': 0.0,\n",
              " 'year': 0.00024284757839867054,\n",
              " 'title': 0.007079940939468933,\n",
              " 'venue': 0.11219558122018579,\n",
              " 'authors': 0.21245426993292924,\n",
              " 'page_start': 1.1566082935810529,\n",
              " 'doi': 1.9592569013545664,\n",
              " 'page_end': 2.2030385089009243,\n",
              " 'url': 2.5928275528137443,\n",
              " 'volume': 4.262834307712541,\n",
              " 'issue': 5.752872326434968,\n",
              " 'fos': 6.053218739165262,\n",
              " 'n_citation': 10.78118088184307,\n",
              " 'lang': 11.73039734347166,\n",
              " 'abstract': 11.932353125784584,\n",
              " 'issn': 13.161255275396627,\n",
              " 'isbn': 17.64534240761331,\n",
              " 'keywords': 21.884302930310966,\n",
              " 'references': 23.96619785875686,\n",
              " 'pdf': 79.4277838551941}"
            ]
          },
          "metadata": {},
          "execution_count": 4
        }
      ]
    },
    {
      "cell_type": "code",
      "source": [
        "plt.title('Процент отсутсвующих значений по каждому полю')\n",
        "plt.barh(*zip(*nans_dict.items()))\n",
        "plt.show()"
      ],
      "metadata": {
        "colab": {
          "base_uri": "https://localhost:8080/",
          "height": 281
        },
        "id": "6JkcSJaU9wod",
        "outputId": "19b264da-249a-4f82-e5a6-20f24c3e0343"
      },
      "execution_count": null,
      "outputs": [
        {
          "output_type": "display_data",
          "data": {
            "text/plain": [
              "<Figure size 432x288 with 1 Axes>"
            ],
            "image/png": "[encoded data removed]"
          },
          "metadata": {
            "needs_background": "light"
          }
        }
      ]
    },
    {
      "cell_type": "markdown",
      "source": [],
      "metadata": {
        "id": "lyPfnmSC2lAz"
      }
    },
    {
      "cell_type": "markdown",
      "source": [
        "# Статистика по числу цитирований (без дубликатов)"
      ],
      "metadata": {
        "id": "QohTy0Aa1igN"
      }
    },
    {
      "cell_type": "code",
      "source": [
        "import pandas as pd\n",
        "df_citation = pd.read_csv('/content/gdrive/MyDrive/17TeamProject/id_citations.csv')"
      ],
      "metadata": {
        "id": "Tqyz_LzHqtfp"
      },
      "execution_count": null,
      "outputs": []
    },
    {
      "cell_type": "code",
      "source": [
        "df_citation.drop('Unnamed: 0', axis=1, inplace=True)\n",
        "df_citation.rename(columns = {'_id':'id'}, inplace=True)"
      ],
      "metadata": {
        "id": "nOm3ybP8CqBY"
      },
      "execution_count": null,
      "outputs": []
    },
    {
      "cell_type": "markdown",
      "source": [
        "Посчитаем количество пропущенных значений в поле n_citation, а также узнаем, сколько статей ни разу не цитировались"
      ],
      "metadata": {
        "id": "uHuOZYqEMWju"
      }
    },
    {
      "cell_type": "code",
      "source": [
        "nans = round(df_citation['n_citation'].isna().sum()/df_citation.shape[0], 3) * 100\n",
        "zeros = round(sum(df_citation['n_citation']==0)/df_citation.shape[0], 3) * 100\n",
        "print(f'NaN values are {nans}% of dataset', f'. Zero values are {zeros}% of dataset')"
      ],
      "metadata": {
        "colab": {
          "base_uri": "https://localhost:8080/"
        },
        "id": "0wcqmPhHyQu6",
        "outputId": "1743ec69-857c-4403-dc3d-f51041814cd9"
      },
      "execution_count": null,
      "outputs": [
        {
          "output_type": "stream",
          "name": "stdout",
          "text": [
            "NaN values are 10.9% of dataset . Zero values are 25.1% of dataset\n"
          ]
        }
      ]
    },
    {
      "cell_type": "code",
      "source": [
        "# Есть статьи с очень высоким индексом цитирования\n",
        "df_citation[df_citation['n_citation']>10000].n_citation.min(), df_citation.n_citation.max()"
      ],
      "metadata": {
        "colab": {
          "base_uri": "https://localhost:8080/"
        },
        "id": "jTO2DT5VORBe",
        "outputId": "753716ec-63e7-4dca-9655-55f3cbb69d23"
      },
      "execution_count": null,
      "outputs": [
        {
          "output_type": "execute_result",
          "data": {
            "text/plain": [
              "(10047.0, 109033.0)"
            ]
          },
          "metadata": {},
          "execution_count": 18
        }
      ]
    },
    {
      "cell_type": "markdown",
      "source": [
        "Из-за статей с очень высокими индексами цитирования (возможно, эти статьи являются основополагающими в своих областях), график числа цитирований будет иметь длинный хвост распределения. Поэтому будем считать статистику медианного числа цитирования среди статей вместо среднего. Получается, медианное значение числа цитирования среди всех статей равно 3"
      ],
      "metadata": {
        "id": "8_DcJGbDOb1D"
      }
    },
    {
      "cell_type": "code",
      "source": [
        "df_citation.n_citation.median()"
      ],
      "metadata": {
        "colab": {
          "base_uri": "https://localhost:8080/"
        },
        "id": "ZnISjvQw6HT9",
        "outputId": "19f409c1-aef8-42ec-a498-7e014174a699"
      },
      "execution_count": null,
      "outputs": [
        {
          "output_type": "execute_result",
          "data": {
            "text/plain": [
              "3.0"
            ]
          },
          "metadata": {},
          "execution_count": 21
        }
      ]
    },
    {
      "cell_type": "code",
      "source": [
        "df_citation['n_citation'].replace(np.nan, 0, inplace=True)"
      ],
      "metadata": {
        "id": "JTQnVc0JPFhI"
      },
      "execution_count": null,
      "outputs": []
    },
    {
      "cell_type": "markdown",
      "source": [
        "Посчитаем количество статей с конкретным числом цитирования (для статей с индексом цитирования > 0 и < 50 и построим график:"
      ],
      "metadata": {
        "id": "KEgMnMDNPeaA"
      }
    },
    {
      "cell_type": "code",
      "source": [
        "data = df_citation[(df_citation['n_citation']>0)&(df_citation['n_citation']<50)].n_citation\n",
        "\n",
        "from matplotlib import pyplot as plt \n",
        "fig = plt.figure(figsize=(15, 8))\n",
        "plt.hist(data, bins = 50, histtype='stepfilled', edgecolor='none')\n",
        "plt.xlabel(\"number of citations\")\n",
        "plt.ylabel(\"count of articles\")"
      ],
      "metadata": {
        "colab": {
          "base_uri": "https://localhost:8080/",
          "height": 514
        },
        "id": "PFVxGFQtygf2",
        "outputId": "493fbecd-e8fd-492a-b109-edc55fb2e3d2"
      },
      "execution_count": null,
      "outputs": [
        {
          "output_type": "execute_result",
          "data": {
            "text/plain": [
              "Text(0, 0.5, 'count of articles')"
            ]
          },
          "metadata": {},
          "execution_count": 60
        },
        {
          "output_type": "display_data",
          "data": {
            "text/plain": [
              "<Figure size 1080x576 with 1 Axes>"
            ],
            "image/png": "[encoded data removed]"
          },
          "metadata": {
            "needs_background": "light"
          }
        }
      ]
    },
    {
      "cell_type": "markdown",
      "source": [
        "## Статистика публикационной активности по годам"
      ],
      "metadata": {
        "id": "oIxtriAg2LYA"
      }
    },
    {
      "cell_type": "code",
      "source": [
        "df_years = pd.read_csv('/content/gdrive/MyDrive/17TeamProject/id_year.csv')\n",
        "df_years.drop('Unnamed: 0', axis=1, inplace=True)\n",
        "df_years.rename(columns = {'_id':'id'}, inplace=True)"
      ],
      "metadata": {
        "id": "XXBMKxrq43uO"
      },
      "execution_count": null,
      "outputs": []
    },
    {
      "cell_type": "markdown",
      "source": [
        "Посчитаем количество пропущенных и нулевых значений в поле года публикации статьи:"
      ],
      "metadata": {
        "id": "kkx1Cl2tQHV1"
      }
    },
    {
      "cell_type": "code",
      "source": [
        "nans = df_years.year.isna().sum()\n",
        "zeros = sum(df_years.year==0)\n",
        "print(f'NaN values are {nans}', f'. Zero values are {zeros}')"
      ],
      "metadata": {
        "colab": {
          "base_uri": "https://localhost:8080/"
        },
        "id": "wos232ZC42es",
        "outputId": "6f09fdd3-844d-466a-af47-ad4ad54a33d4"
      },
      "execution_count": null,
      "outputs": [
        {
          "output_type": "stream",
          "name": "stdout",
          "text": [
            "NaN values are 13 . Zero values are 540\n"
          ]
        }
      ]
    },
    {
      "cell_type": "markdown",
      "source": [
        "Можно сделать вывод, что поле года публикации статьи присутствует практически во всем датасете. Количество пропусков или нулевых значений очень мало"
      ],
      "metadata": {
        "id": "y8SnQ6OGQ4OH"
      }
    },
    {
      "cell_type": "markdown",
      "source": [
        "Посмотрим, статьи каких годов присутствуют в датасете по большей части:"
      ],
      "metadata": {
        "id": "ibPPl_pdRb4G"
      }
    },
    {
      "cell_type": "code",
      "source": [
        "df_years.year.describe()"
      ],
      "metadata": {
        "colab": {
          "base_uri": "https://localhost:8080/"
        },
        "id": "2FU_Tbi7UaVD",
        "outputId": "a9a71af6-3437-473c-cdab-73869a07dbaa"
      },
      "execution_count": null,
      "outputs": [
        {
          "output_type": "execute_result",
          "data": {
            "text/plain": [
              "count    5.300678e+06\n",
              "mean     2.009693e+03\n",
              "std      2.298552e+01\n",
              "min      0.000000e+00\n",
              "25%      2.006000e+03\n",
              "50%      2.012000e+03\n",
              "75%      2.017000e+03\n",
              "max      9.737000e+03\n",
              "Name: year, dtype: float64"
            ]
          },
          "metadata": {},
          "execution_count": 39
        }
      ]
    },
    {
      "cell_type": "markdown",
      "source": [
        "Видим, что среднее значение поля года публикации - 2009. Также можно увидеть, что статьи, с годом публикации менее 1996 составляют уже менее 1% от датасета. Для подсчета статистик будем использовать данные за года > 1990"
      ],
      "metadata": {
        "id": "XdoZmHKcUlyc"
      }
    },
    {
      "cell_type": "code",
      "source": [
        "# Видим, что большую часть статей в датасете составляют статьи с 1990 годов. Для подсчета статистик будем исп\n",
        "df_years.year.value_counts(normalize=True).nlargest(30)"
      ],
      "metadata": {
        "colab": {
          "base_uri": "https://localhost:8080/"
        },
        "id": "UI92nxjfRM3k",
        "outputId": "0ae3fffd-9a60-4020-bd26-69fadee98a47"
      },
      "execution_count": null,
      "outputs": [
        {
          "output_type": "execute_result",
          "data": {
            "text/plain": [
              "2018.0    0.067105\n",
              "2019.0    0.065835\n",
              "2020.0    0.063571\n",
              "2017.0    0.058392\n",
              "2015.0    0.056741\n",
              "2014.0    0.053911\n",
              "2016.0    0.053191\n",
              "2013.0    0.051492\n",
              "2012.0    0.048014\n",
              "2011.0    0.045138\n",
              "2010.0    0.041775\n",
              "2009.0    0.040249\n",
              "2008.0    0.036716\n",
              "2007.0    0.033939\n",
              "2006.0    0.032123\n",
              "2005.0    0.028078\n",
              "2004.0    0.024191\n",
              "2003.0    0.020178\n",
              "2002.0    0.017353\n",
              "2001.0    0.015478\n",
              "2000.0    0.014450\n",
              "1999.0    0.013037\n",
              "1998.0    0.011617\n",
              "1997.0    0.010320\n",
              "2021.0    0.010063\n",
              "1996.0    0.009345\n",
              "1995.0    0.008635\n",
              "1994.0    0.008124\n",
              "1993.0    0.007264\n",
              "1992.0    0.006251\n",
              "Name: year, dtype: float64"
            ]
          },
          "metadata": {},
          "execution_count": 40
        }
      ]
    },
    {
      "cell_type": "markdown",
      "source": [
        "Построим график распределения количества статей, публикуемых в год:"
      ],
      "metadata": {
        "id": "vayL-IGdY0Ak"
      }
    },
    {
      "cell_type": "code",
      "source": [
        "data = df_years[(df_years.year>1990)&(df_years.year<=2020)].year\n",
        "\n",
        "from matplotlib import pyplot as plt \n",
        "fig = plt.figure(figsize=(15, 8))\n",
        "plt.hist(data, bins = 30, histtype='stepfilled', edgecolor='none')\n",
        "plt.xlabel(\"year 1990-2020\")\n",
        "plt.ylabel(\"number of articles\")"
      ],
      "metadata": {
        "colab": {
          "base_uri": "https://localhost:8080/",
          "height": 514
        },
        "id": "P7bRDQ_T71KB",
        "outputId": "9f8fa9ea-1d36-4b33-ef44-a6ea51cf5be4"
      },
      "execution_count": null,
      "outputs": [
        {
          "output_type": "execute_result",
          "data": {
            "text/plain": [
              "Text(0, 0.5, 'number of articles')"
            ]
          },
          "metadata": {},
          "execution_count": 68
        },
        {
          "output_type": "display_data",
          "data": {
            "text/plain": [
              "<Figure size 1080x576 with 1 Axes>"
            ],
            "image/png": "[encoded data removed]"
          },
          "metadata": {
            "needs_background": "light"
          }
        }
      ]
    },
    {
      "cell_type": "markdown",
      "source": [
        "Но в поле года публикации также встречаются и выбросы, хоть их и малое количество:"
      ],
      "metadata": {
        "id": "0RhVOZ8BW3Fc"
      }
    },
    {
      "cell_type": "code",
      "source": [
        "df_years[(df_years.year<=1900)|(df_years.year>=2023)].year.value_counts().nlargest(10)"
      ],
      "metadata": {
        "colab": {
          "base_uri": "https://localhost:8080/"
        },
        "id": "NkvkQ-Pp-1ah",
        "outputId": "609e26fe-d61b-4772-bcf0-1f8daba4c630"
      },
      "execution_count": null,
      "outputs": [
        {
          "output_type": "execute_result",
          "data": {
            "text/plain": [
              "0.0       540\n",
              "13.0       17\n",
              "2300.0     12\n",
              "1898.0      5\n",
              "1894.0      5\n",
              "1899.0      3\n",
              "1860.0      3\n",
              "1892.0      2\n",
              "1900.0      2\n",
              "1895.0      2\n",
              "Name: year, dtype: int64"
            ]
          },
          "metadata": {},
          "execution_count": 56
        }
      ]
    },
    {
      "cell_type": "markdown",
      "source": [
        "# Статистика по годам"
      ],
      "metadata": {
        "id": "giqvYCDfDLYL"
      }
    },
    {
      "cell_type": "markdown",
      "source": [
        "Посмотроим график суммарной цитируемости статей по годам публикаций:"
      ],
      "metadata": {
        "id": "jH7XgnAUZCBt"
      }
    },
    {
      "cell_type": "code",
      "source": [
        "df_year_cit = df_years.merge(df_citation, on='id')\n",
        "fig = plt.figure(figsize=(15, 8))\n",
        "plt.plot(df_year_cit[(df_year_cit.year>1980)&(df_year_cit.year<=2020)][['year', 'n_citation']].groupby(by='year').sum())\n",
        "plt.xlabel(\"Years 1970-2020\")\n",
        "plt.ylabel(\"Citations\")\n",
        "plt.title('Total number of citations groupped by a year of publishing');"
      ],
      "metadata": {
        "colab": {
          "base_uri": "https://localhost:8080/",
          "height": 513
        },
        "id": "S_lHs0E5Dxip",
        "outputId": "e995c13e-be80-42ac-8025-2138c17c78e6"
      },
      "execution_count": null,
      "outputs": [
        {
          "output_type": "display_data",
          "data": {
            "text/plain": [
              "<Figure size 1080x576 with 1 Axes>"
            ],
            "image/png": "[encoded data removed]"
          },
          "metadata": {
            "needs_background": "light"
          }
        }
      ]
    },
    {
      "cell_type": "markdown",
      "source": [
        "# Статистика по языкам статей"
      ],
      "metadata": {
        "id": "XVgCKGWf1xju"
      }
    },
    {
      "cell_type": "markdown",
      "source": [
        "Проанализируем основные языки публикаций"
      ],
      "metadata": {
        "id": "TxL_7H7YvzNR"
      }
    },
    {
      "cell_type": "code",
      "source": [
        "lang_df = pd.read_csv('/content/gdrive/MyDrive/MADE/data/lang_df.csv', header = 0, index_col = 0)"
      ],
      "metadata": {
        "id": "EloTLnEhZndU"
      },
      "execution_count": null,
      "outputs": []
    },
    {
      "cell_type": "markdown",
      "source": [
        "**количество отсутствующих значений**"
      ],
      "metadata": {
        "id": "C0IWYU43wRl7"
      }
    },
    {
      "cell_type": "code",
      "source": [
        "lang_df.shape[0] -lang_df.dropna().shape[0]"
      ],
      "metadata": {
        "colab": {
          "base_uri": "https://localhost:8080/"
        },
        "id": "_wz54HXlXmEo",
        "outputId": "d8cc2bb4-c3e5-41eb-8d50-ec71e4ad946e"
      },
      "execution_count": null,
      "outputs": [
        {
          "output_type": "execute_result",
          "data": {
            "text/plain": [
              "625769"
            ]
          },
          "metadata": {},
          "execution_count": 4
        }
      ]
    },
    {
      "cell_type": "markdown",
      "source": [
        "**Распределение по языкам**\n",
        "('zh' = \"Chinese\")"
      ],
      "metadata": {
        "id": "Hqy0x-lYwVsA"
      }
    },
    {
      "cell_type": "code",
      "source": [
        "lang_df['lang'].value_counts()"
      ],
      "metadata": {
        "colab": {
          "base_uri": "https://localhost:8080/"
        },
        "id": "svs5kpaDXaD1",
        "outputId": "82ec39c3-360b-4fcf-a56a-3c61cce75cc3"
      },
      "execution_count": null,
      "outputs": [
        {
          "output_type": "execute_result",
          "data": {
            "text/plain": [
              "en    4674533\n",
              "zh        389\n",
              "Name: lang, dtype: int64"
            ]
          },
          "metadata": {},
          "execution_count": 5
        }
      ]
    },
    {
      "cell_type": "markdown",
      "source": [
        "# Статистика по научным отраслям"
      ],
      "metadata": {
        "id": "-B0dfoTj13PU"
      }
    },
    {
      "cell_type": "code",
      "source": [
        "fos_df = pd.read_csv('/content/gdrive/MyDrive/MADE/data/fos_stat.csv', header = 0, index_col = 0)\n",
        "\n",
        "fos_df.head()"
      ],
      "metadata": {
        "colab": {
          "base_uri": "https://localhost:8080/",
          "height": 206
        },
        "id": "VX2a7kH8cuM8",
        "outputId": "2d0dfb05-ad94-401f-fbf5-c9ec892ff864"
      },
      "execution_count": null,
      "outputs": [
        {
          "output_type": "execute_result",
          "data": {
            "text/plain": [
              "                                 fos    count\n",
              "0  Intelligent character recognition     2256\n",
              "1                Pattern recognition   256848\n",
              "2                   Computer science  3127040\n",
              "3          Feature (computer vision)    12366\n",
              "4                Document processing     1344"
            ],
            "text/html": [
              "\n",
              "  <div id=\"df-101941d0-f942-405e-b955-2cab121ea628\">\n",
              "    <div class=\"colab-df-container\">\n",
              "      <div>\n",
              "<style scoped>\n",
              "    .dataframe tbody tr th:only-of-type {\n",
              "        vertical-align: middle;\n",
              "    }\n",
              "\n",
              "    .dataframe tbody tr th {\n",
              "        vertical-align: top;\n",
              "    }\n",
              "\n",
              "    .dataframe thead th {\n",
              "        text-align: right;\n",
              "    }\n",
              "</style>\n",
              "<table border=\"1\" class=\"dataframe\">\n",
              "  <thead>\n",
              "    <tr style=\"text-align: right;\">\n",
              "      <th></th>\n",
              "      <th>fos</th>\n",
              "      <th>count</th>\n",
              "    </tr>\n",
              "  </thead>\n",
              "  <tbody>\n",
              "    <tr>\n",
              "      <th>0</th>\n",
              "      <td>Intelligent character recognition</td>\n",
              "      <td>2256</td>\n",
              "    </tr>\n",
              "    <tr>\n",
              "      <th>1</th>\n",
              "      <td>Pattern recognition</td>\n",
              "      <td>256848</td>\n",
              "    </tr>\n",
              "    <tr>\n",
              "      <th>2</th>\n",
              "      <td>Computer science</td>\n",
              "      <td>3127040</td>\n",
              "    </tr>\n",
              "    <tr>\n",
              "      <th>3</th>\n",
              "      <td>Feature (computer vision)</td>\n",
              "      <td>12366</td>\n",
              "    </tr>\n",
              "    <tr>\n",
              "      <th>4</th>\n",
              "      <td>Document processing</td>\n",
              "      <td>1344</td>\n",
              "    </tr>\n",
              "  </tbody>\n",
              "</table>\n",
              "</div>\n",
              "      <button class=\"colab-df-convert\" onclick=\"convertToInteractive('df-101941d0-f942-405e-b955-2cab121ea628')\"\n",
              "              title=\"Convert this dataframe to an interactive table.\"\n",
              "              style=\"display:none;\">\n",
              "        \n",
              "  <svg xmlns=\"http://www.w3.org/2000/svg\" height=\"24px\"viewBox=\"0 0 24 24\"\n",
              "       width=\"24px\">\n",
              "    <path d=\"M0 0h24v24H0V0z\" fill=\"none\"/>\n",
              "    <path d=\"M18.56 5.44l.94 2.06.94-2.06 2.06-.94-2.06-.94-.94-2.06-.94 2.06-2.06.94zm-11 1L8.5 8.5l.94-2.06 2.06-.94-2.06-.94L8.5 2.5l-.94 2.06-2.06.94zm10 10l.94 2.06.94-2.06 2.06-.94-2.06-.94-.94-2.06-.94 2.06-2.06.94z\"/><path d=\"M17.41 7.96l-1.37-1.37c-.4-.4-.92-.59-1.43-.59-.52 0-1.04.2-1.43.59L10.3 9.45l-7.72 7.72c-.78.78-.78 2.05 0 2.83L4 21.41c.39.39.9.59 1.41.59.51 0 1.02-.2 1.41-.59l7.78-7.78 2.81-2.81c.8-.78.8-2.07 0-2.86zM5.41 20L4 18.59l7.72-7.72 1.47 1.35L5.41 20z\"/>\n",
              "  </svg>\n",
              "      </button>\n",
              "      \n",
              "  <style>\n",
              "    .colab-df-container {\n",
              "      display:flex;\n",
              "      flex-wrap:wrap;\n",
              "      gap: 12px;\n",
              "    }\n",
              "\n",
              "    .colab-df-convert {\n",
              "      background-color: #E8F0FE;\n",
              "      border: none;\n",
              "      border-radius: 50%;\n",
              "      cursor: pointer;\n",
              "      display: none;\n",
              "      fill: #1967D2;\n",
              "      height: 32px;\n",
              "      padding: 0 0 0 0;\n",
              "      width: 32px;\n",
              "    }\n",
              "\n",
              "    .colab-df-convert:hover {\n",
              "      background-color: #E2EBFA;\n",
              "      box-shadow: 0px 1px 2px rgba(60, 64, 67, 0.3), 0px 1px 3px 1px rgba(60, 64, 67, 0.15);\n",
              "      fill: #174EA6;\n",
              "    }\n",
              "\n",
              "    [theme=dark] .colab-df-convert {\n",
              "      background-color: #3B4455;\n",
              "      fill: #D2E3FC;\n",
              "    }\n",
              "\n",
              "    [theme=dark] .colab-df-convert:hover {\n",
              "      background-color: #434B5C;\n",
              "      box-shadow: 0px 1px 3px 1px rgba(0, 0, 0, 0.15);\n",
              "      filter: drop-shadow(0px 1px 2px rgba(0, 0, 0, 0.3));\n",
              "      fill: #FFFFFF;\n",
              "    }\n",
              "  </style>\n",
              "\n",
              "      <script>\n",
              "        const buttonEl =\n",
              "          document.querySelector('#df-101941d0-f942-405e-b955-2cab121ea628 button.colab-df-convert');\n",
              "        buttonEl.style.display =\n",
              "          google.colab.kernel.accessAllowed ? 'block' : 'none';\n",
              "\n",
              "        async function convertToInteractive(key) {\n",
              "          const element = document.querySelector('#df-101941d0-f942-405e-b955-2cab121ea628');\n",
              "          const dataTable =\n",
              "            await google.colab.kernel.invokeFunction('convertToInteractive',\n",
              "                                                     [key], {});\n",
              "          if (!dataTable) return;\n",
              "\n",
              "          const docLinkHtml = 'Like what you see? Visit the ' +\n",
              "            '<a target=\"_blank\" href=https://colab.research.google.com/notebooks/data_table.ipynb>data table notebook</a>'\n",
              "            + ' to learn more about interactive tables.';\n",
              "          element.innerHTML = '';\n",
              "          dataTable['output_type'] = 'display_data';\n",
              "          await google.colab.output.renderOutput(dataTable, element);\n",
              "          const docLink = document.createElement('div');\n",
              "          docLink.innerHTML = docLinkHtml;\n",
              "          element.appendChild(docLink);\n",
              "        }\n",
              "      </script>\n",
              "    </div>\n",
              "  </div>\n",
              "  "
            ]
          },
          "metadata": {},
          "execution_count": 29
        }
      ]
    },
    {
      "cell_type": "code",
      "source": [
        "fos_df.shape"
      ],
      "metadata": {
        "colab": {
          "base_uri": "https://localhost:8080/"
        },
        "id": "aQranmEegZao",
        "outputId": "e28dcf8e-a934-43ac-e404-8f29ff5117ed"
      },
      "execution_count": null,
      "outputs": [
        {
          "output_type": "execute_result",
          "data": {
            "text/plain": [
              "(165978, 2)"
            ]
          },
          "metadata": {},
          "execution_count": 30
        }
      ]
    },
    {
      "cell_type": "markdown",
      "source": [
        "Видим, что есть отрасли, по которым число публикаций превышает 58% от всего датасета"
      ],
      "metadata": {
        "id": "VZmUAwXUOiAl"
      }
    },
    {
      "cell_type": "code",
      "source": [
        "fos_df.describe()"
      ],
      "metadata": {
        "colab": {
          "base_uri": "https://localhost:8080/",
          "height": 300
        },
        "id": "M8AFB_kIgd7K",
        "outputId": "1d2c0e0e-846d-4f22-b2b6-e3dfe6bb10c4"
      },
      "execution_count": null,
      "outputs": [
        {
          "output_type": "execute_result",
          "data": {
            "text/plain": [
              "              count\n",
              "count  1.659780e+05\n",
              "mean   2.720206e+02\n",
              "std    8.826910e+03\n",
              "min    1.000000e+00\n",
              "25%    2.000000e+00\n",
              "50%    9.000000e+00\n",
              "75%    4.400000e+01\n",
              "max    3.127040e+06"
            ],
            "text/html": [
              "\n",
              "  <div id=\"df-a7fa6353-14af-4532-9e00-4e681f4a7a72\">\n",
              "    <div class=\"colab-df-container\">\n",
              "      <div>\n",
              "<style scoped>\n",
              "    .dataframe tbody tr th:only-of-type {\n",
              "        vertical-align: middle;\n",
              "    }\n",
              "\n",
              "    .dataframe tbody tr th {\n",
              "        vertical-align: top;\n",
              "    }\n",
              "\n",
              "    .dataframe thead th {\n",
              "        text-align: right;\n",
              "    }\n",
              "</style>\n",
              "<table border=\"1\" class=\"dataframe\">\n",
              "  <thead>\n",
              "    <tr style=\"text-align: right;\">\n",
              "      <th></th>\n",
              "      <th>count</th>\n",
              "    </tr>\n",
              "  </thead>\n",
              "  <tbody>\n",
              "    <tr>\n",
              "      <th>count</th>\n",
              "      <td>1.659780e+05</td>\n",
              "    </tr>\n",
              "    <tr>\n",
              "      <th>mean</th>\n",
              "      <td>2.720206e+02</td>\n",
              "    </tr>\n",
              "    <tr>\n",
              "      <th>std</th>\n",
              "      <td>8.826910e+03</td>\n",
              "    </tr>\n",
              "    <tr>\n",
              "      <th>min</th>\n",
              "      <td>1.000000e+00</td>\n",
              "    </tr>\n",
              "    <tr>\n",
              "      <th>25%</th>\n",
              "      <td>2.000000e+00</td>\n",
              "    </tr>\n",
              "    <tr>\n",
              "      <th>50%</th>\n",
              "      <td>9.000000e+00</td>\n",
              "    </tr>\n",
              "    <tr>\n",
              "      <th>75%</th>\n",
              "      <td>4.400000e+01</td>\n",
              "    </tr>\n",
              "    <tr>\n",
              "      <th>max</th>\n",
              "      <td>3.127040e+06</td>\n",
              "    </tr>\n",
              "  </tbody>\n",
              "</table>\n",
              "</div>\n",
              "      <button class=\"colab-df-convert\" onclick=\"convertToInteractive('df-a7fa6353-14af-4532-9e00-4e681f4a7a72')\"\n",
              "              title=\"Convert this dataframe to an interactive table.\"\n",
              "              style=\"display:none;\">\n",
              "        \n",
              "  <svg xmlns=\"http://www.w3.org/2000/svg\" height=\"24px\"viewBox=\"0 0 24 24\"\n",
              "       width=\"24px\">\n",
              "    <path d=\"M0 0h24v24H0V0z\" fill=\"none\"/>\n",
              "    <path d=\"M18.56 5.44l.94 2.06.94-2.06 2.06-.94-2.06-.94-.94-2.06-.94 2.06-2.06.94zm-11 1L8.5 8.5l.94-2.06 2.06-.94-2.06-.94L8.5 2.5l-.94 2.06-2.06.94zm10 10l.94 2.06.94-2.06 2.06-.94-2.06-.94-.94-2.06-.94 2.06-2.06.94z\"/><path d=\"M17.41 7.96l-1.37-1.37c-.4-.4-.92-.59-1.43-.59-.52 0-1.04.2-1.43.59L10.3 9.45l-7.72 7.72c-.78.78-.78 2.05 0 2.83L4 21.41c.39.39.9.59 1.41.59.51 0 1.02-.2 1.41-.59l7.78-7.78 2.81-2.81c.8-.78.8-2.07 0-2.86zM5.41 20L4 18.59l7.72-7.72 1.47 1.35L5.41 20z\"/>\n",
              "  </svg>\n",
              "      </button>\n",
              "      \n",
              "  <style>\n",
              "    .colab-df-container {\n",
              "      display:flex;\n",
              "      flex-wrap:wrap;\n",
              "      gap: 12px;\n",
              "    }\n",
              "\n",
              "    .colab-df-convert {\n",
              "      background-color: #E8F0FE;\n",
              "      border: none;\n",
              "      border-radius: 50%;\n",
              "      cursor: pointer;\n",
              "      display: none;\n",
              "      fill: #1967D2;\n",
              "      height: 32px;\n",
              "      padding: 0 0 0 0;\n",
              "      width: 32px;\n",
              "    }\n",
              "\n",
              "    .colab-df-convert:hover {\n",
              "      background-color: #E2EBFA;\n",
              "      box-shadow: 0px 1px 2px rgba(60, 64, 67, 0.3), 0px 1px 3px 1px rgba(60, 64, 67, 0.15);\n",
              "      fill: #174EA6;\n",
              "    }\n",
              "\n",
              "    [theme=dark] .colab-df-convert {\n",
              "      background-color: #3B4455;\n",
              "      fill: #D2E3FC;\n",
              "    }\n",
              "\n",
              "    [theme=dark] .colab-df-convert:hover {\n",
              "      background-color: #434B5C;\n",
              "      box-shadow: 0px 1px 3px 1px rgba(0, 0, 0, 0.15);\n",
              "      filter: drop-shadow(0px 1px 2px rgba(0, 0, 0, 0.3));\n",
              "      fill: #FFFFFF;\n",
              "    }\n",
              "  </style>\n",
              "\n",
              "      <script>\n",
              "        const buttonEl =\n",
              "          document.querySelector('#df-a7fa6353-14af-4532-9e00-4e681f4a7a72 button.colab-df-convert');\n",
              "        buttonEl.style.display =\n",
              "          google.colab.kernel.accessAllowed ? 'block' : 'none';\n",
              "\n",
              "        async function convertToInteractive(key) {\n",
              "          const element = document.querySelector('#df-a7fa6353-14af-4532-9e00-4e681f4a7a72');\n",
              "          const dataTable =\n",
              "            await google.colab.kernel.invokeFunction('convertToInteractive',\n",
              "                                                     [key], {});\n",
              "          if (!dataTable) return;\n",
              "\n",
              "          const docLinkHtml = 'Like what you see? Visit the ' +\n",
              "            '<a target=\"_blank\" href=https://colab.research.google.com/notebooks/data_table.ipynb>data table notebook</a>'\n",
              "            + ' to learn more about interactive tables.';\n",
              "          element.innerHTML = '';\n",
              "          dataTable['output_type'] = 'display_data';\n",
              "          await google.colab.output.renderOutput(dataTable, element);\n",
              "          const docLink = document.createElement('div');\n",
              "          docLink.innerHTML = docLinkHtml;\n",
              "          element.appendChild(docLink);\n",
              "        }\n",
              "      </script>\n",
              "    </div>\n",
              "  </div>\n",
              "  "
            ]
          },
          "metadata": {},
          "execution_count": 35
        }
      ]
    },
    {
      "cell_type": "markdown",
      "source": [
        "**Самы популярные отрасли** (без Computer science)"
      ],
      "metadata": {
        "id": "JHXf1hs8ErbS"
      }
    },
    {
      "cell_type": "code",
      "source": [
        "fos_df.sort_values('count',ascending=False, inplace = True)\n",
        "new_fos_10_5= fos_df.drop(fos_df[fos_df.fos == 'Computer science'].index)\n",
        "new_fos_10_5 = new_fos_10_5[new_fos_10_5['count'] > 100000]\n",
        "print(new_fos_10_5.shape)\n",
        "new_fos_10_5.head(20)\n"
      ],
      "metadata": {
        "colab": {
          "base_uri": "https://localhost:8080/",
          "height": 694
        },
        "id": "BLzShKaCZQwm",
        "outputId": "6b6e7303-daa3-4c5e-af6a-f7c8b4c66752"
      },
      "execution_count": null,
      "outputs": [
        {
          "output_type": "stream",
          "name": "stdout",
          "text": [
            "(32, 2)\n"
          ]
        },
        {
          "output_type": "execute_result",
          "data": {
            "text/plain": [
              "                              fos   count\n",
              "9         Artificial intelligence  946703\n",
              "120                   Mathematics  830513\n",
              "28                      Algorithm  383091\n",
              "60                    Engineering  321080\n",
              "373               Computer vision  304508\n",
              "95               Computer network  297062\n",
              "1             Pattern recognition  256848\n",
              "180                Control theory  256069\n",
              "172     Mathematical optimization  227218\n",
              "52          Distributed computing  217544\n",
              "230          Discrete mathematics  196922\n",
              "164              Machine learning  188055\n",
              "301  Theoretical computer science  187654\n",
              "322                   Data mining  187229\n",
              "231                 Combinatorics  172439\n",
              "383        Electronic engineering  160462\n",
              "33                 World Wide Web  151865\n",
              "499             Computer security  136096\n",
              "320     Artificial neural network  132940\n",
              "302                      Software  130753"
            ],
            "text/html": [
              "\n",
              "  <div id=\"df-898dab54-2f06-450f-95ce-8ac07a3fcda6\">\n",
              "    <div class=\"colab-df-container\">\n",
              "      <div>\n",
              "<style scoped>\n",
              "    .dataframe tbody tr th:only-of-type {\n",
              "        vertical-align: middle;\n",
              "    }\n",
              "\n",
              "    .dataframe tbody tr th {\n",
              "        vertical-align: top;\n",
              "    }\n",
              "\n",
              "    .dataframe thead th {\n",
              "        text-align: right;\n",
              "    }\n",
              "</style>\n",
              "<table border=\"1\" class=\"dataframe\">\n",
              "  <thead>\n",
              "    <tr style=\"text-align: right;\">\n",
              "      <th></th>\n",
              "      <th>fos</th>\n",
              "      <th>count</th>\n",
              "    </tr>\n",
              "  </thead>\n",
              "  <tbody>\n",
              "    <tr>\n",
              "      <th>9</th>\n",
              "      <td>Artificial intelligence</td>\n",
              "      <td>946703</td>\n",
              "    </tr>\n",
              "    <tr>\n",
              "      <th>120</th>\n",
              "      <td>Mathematics</td>\n",
              "      <td>830513</td>\n",
              "    </tr>\n",
              "    <tr>\n",
              "      <th>28</th>\n",
              "      <td>Algorithm</td>\n",
              "      <td>383091</td>\n",
              "    </tr>\n",
              "    <tr>\n",
              "      <th>60</th>\n",
              "      <td>Engineering</td>\n",
              "      <td>321080</td>\n",
              "    </tr>\n",
              "    <tr>\n",
              "      <th>373</th>\n",
              "      <td>Computer vision</td>\n",
              "      <td>304508</td>\n",
              "    </tr>\n",
              "    <tr>\n",
              "      <th>95</th>\n",
              "      <td>Computer network</td>\n",
              "      <td>297062</td>\n",
              "    </tr>\n",
              "    <tr>\n",
              "      <th>1</th>\n",
              "      <td>Pattern recognition</td>\n",
              "      <td>256848</td>\n",
              "    </tr>\n",
              "    <tr>\n",
              "      <th>180</th>\n",
              "      <td>Control theory</td>\n",
              "      <td>256069</td>\n",
              "    </tr>\n",
              "    <tr>\n",
              "      <th>172</th>\n",
              "      <td>Mathematical optimization</td>\n",
              "      <td>227218</td>\n",
              "    </tr>\n",
              "    <tr>\n",
              "      <th>52</th>\n",
              "      <td>Distributed computing</td>\n",
              "      <td>217544</td>\n",
              "    </tr>\n",
              "    <tr>\n",
              "      <th>230</th>\n",
              "      <td>Discrete mathematics</td>\n",
              "      <td>196922</td>\n",
              "    </tr>\n",
              "    <tr>\n",
              "      <th>164</th>\n",
              "      <td>Machine learning</td>\n",
              "      <td>188055</td>\n",
              "    </tr>\n",
              "    <tr>\n",
              "      <th>301</th>\n",
              "      <td>Theoretical computer science</td>\n",
              "      <td>187654</td>\n",
              "    </tr>\n",
              "    <tr>\n",
              "      <th>322</th>\n",
              "      <td>Data mining</td>\n",
              "      <td>187229</td>\n",
              "    </tr>\n",
              "    <tr>\n",
              "      <th>231</th>\n",
              "      <td>Combinatorics</td>\n",
              "      <td>172439</td>\n",
              "    </tr>\n",
              "    <tr>\n",
              "      <th>383</th>\n",
              "      <td>Electronic engineering</td>\n",
              "      <td>160462</td>\n",
              "    </tr>\n",
              "    <tr>\n",
              "      <th>33</th>\n",
              "      <td>World Wide Web</td>\n",
              "      <td>151865</td>\n",
              "    </tr>\n",
              "    <tr>\n",
              "      <th>499</th>\n",
              "      <td>Computer security</td>\n",
              "      <td>136096</td>\n",
              "    </tr>\n",
              "    <tr>\n",
              "      <th>320</th>\n",
              "      <td>Artificial neural network</td>\n",
              "      <td>132940</td>\n",
              "    </tr>\n",
              "    <tr>\n",
              "      <th>302</th>\n",
              "      <td>Software</td>\n",
              "      <td>130753</td>\n",
              "    </tr>\n",
              "  </tbody>\n",
              "</table>\n",
              "</div>\n",
              "      <button class=\"colab-df-convert\" onclick=\"convertToInteractive('df-898dab54-2f06-450f-95ce-8ac07a3fcda6')\"\n",
              "              title=\"Convert this dataframe to an interactive table.\"\n",
              "              style=\"display:none;\">\n",
              "        \n",
              "  <svg xmlns=\"http://www.w3.org/2000/svg\" height=\"24px\"viewBox=\"0 0 24 24\"\n",
              "       width=\"24px\">\n",
              "    <path d=\"M0 0h24v24H0V0z\" fill=\"none\"/>\n",
              "    <path d=\"M18.56 5.44l.94 2.06.94-2.06 2.06-.94-2.06-.94-.94-2.06-.94 2.06-2.06.94zm-11 1L8.5 8.5l.94-2.06 2.06-.94-2.06-.94L8.5 2.5l-.94 2.06-2.06.94zm10 10l.94 2.06.94-2.06 2.06-.94-2.06-.94-.94-2.06-.94 2.06-2.06.94z\"/><path d=\"M17.41 7.96l-1.37-1.37c-.4-.4-.92-.59-1.43-.59-.52 0-1.04.2-1.43.59L10.3 9.45l-7.72 7.72c-.78.78-.78 2.05 0 2.83L4 21.41c.39.39.9.59 1.41.59.51 0 1.02-.2 1.41-.59l7.78-7.78 2.81-2.81c.8-.78.8-2.07 0-2.86zM5.41 20L4 18.59l7.72-7.72 1.47 1.35L5.41 20z\"/>\n",
              "  </svg>\n",
              "      </button>\n",
              "      \n",
              "  <style>\n",
              "    .colab-df-container {\n",
              "      display:flex;\n",
              "      flex-wrap:wrap;\n",
              "      gap: 12px;\n",
              "    }\n",
              "\n",
              "    .colab-df-convert {\n",
              "      background-color: #E8F0FE;\n",
              "      border: none;\n",
              "      border-radius: 50%;\n",
              "      cursor: pointer;\n",
              "      display: none;\n",
              "      fill: #1967D2;\n",
              "      height: 32px;\n",
              "      padding: 0 0 0 0;\n",
              "      width: 32px;\n",
              "    }\n",
              "\n",
              "    .colab-df-convert:hover {\n",
              "      background-color: #E2EBFA;\n",
              "      box-shadow: 0px 1px 2px rgba(60, 64, 67, 0.3), 0px 1px 3px 1px rgba(60, 64, 67, 0.15);\n",
              "      fill: #174EA6;\n",
              "    }\n",
              "\n",
              "    [theme=dark] .colab-df-convert {\n",
              "      background-color: #3B4455;\n",
              "      fill: #D2E3FC;\n",
              "    }\n",
              "\n",
              "    [theme=dark] .colab-df-convert:hover {\n",
              "      background-color: #434B5C;\n",
              "      box-shadow: 0px 1px 3px 1px rgba(0, 0, 0, 0.15);\n",
              "      filter: drop-shadow(0px 1px 2px rgba(0, 0, 0, 0.3));\n",
              "      fill: #FFFFFF;\n",
              "    }\n",
              "  </style>\n",
              "\n",
              "      <script>\n",
              "        const buttonEl =\n",
              "          document.querySelector('#df-898dab54-2f06-450f-95ce-8ac07a3fcda6 button.colab-df-convert');\n",
              "        buttonEl.style.display =\n",
              "          google.colab.kernel.accessAllowed ? 'block' : 'none';\n",
              "\n",
              "        async function convertToInteractive(key) {\n",
              "          const element = document.querySelector('#df-898dab54-2f06-450f-95ce-8ac07a3fcda6');\n",
              "          const dataTable =\n",
              "            await google.colab.kernel.invokeFunction('convertToInteractive',\n",
              "                                                     [key], {});\n",
              "          if (!dataTable) return;\n",
              "\n",
              "          const docLinkHtml = 'Like what you see? Visit the ' +\n",
              "            '<a target=\"_blank\" href=https://colab.research.google.com/notebooks/data_table.ipynb>data table notebook</a>'\n",
              "            + ' to learn more about interactive tables.';\n",
              "          element.innerHTML = '';\n",
              "          dataTable['output_type'] = 'display_data';\n",
              "          await google.colab.output.renderOutput(dataTable, element);\n",
              "          const docLink = document.createElement('div');\n",
              "          docLink.innerHTML = docLinkHtml;\n",
              "          element.appendChild(docLink);\n",
              "        }\n",
              "      </script>\n",
              "    </div>\n",
              "  </div>\n",
              "  "
            ]
          },
          "metadata": {},
          "execution_count": 56
        }
      ]
    },
    {
      "cell_type": "code",
      "source": [
        "fig = plt.figure(figsize=(10, 5))\n",
        "plt.xticks(rotation=90)\n",
        "plt.bar(new_fos_10_5['fos'], new_fos_10_5['count'] )\n",
        " \n",
        "#new_fos.plot.bar(x='fos', y='count', rot = 0)"
      ],
      "metadata": {
        "colab": {
          "base_uri": "https://localhost:8080/",
          "height": 474
        },
        "id": "wVix6hy4_Dtd",
        "outputId": "469674ad-d439-4527-9ae8-5dc67b25ce45"
      },
      "execution_count": null,
      "outputs": [
        {
          "output_type": "execute_result",
          "data": {
            "text/plain": [
              "<BarContainer object of 32 artists>"
            ]
          },
          "metadata": {},
          "execution_count": 46
        },
        {
          "output_type": "display_data",
          "data": {
            "text/plain": [
              "<Figure size 720x360 with 1 Axes>"
            ],
            "image/png": "[encoded data removed]"
          },
          "metadata": {
            "needs_background": "light"
          }
        }
      ]
    },
    {
      "cell_type": "markdown",
      "source": [
        "##Отрасли с количеством публикаций меньше 100"
      ],
      "metadata": {
        "id": "Fb4wDahDCzol"
      }
    },
    {
      "cell_type": "code",
      "source": [
        "new_fos_10_3= fos_df.drop(fos_df[fos_df.fos == 'Computer science'].index)\n",
        "new_fos_10_3 = new_fos_10_3[new_fos_10_3['count'] < 100]\n",
        "print(new_fos_10_3.shape)\n",
        "new_fos_10_3.head(10)\n"
      ],
      "metadata": {
        "colab": {
          "base_uri": "https://localhost:8080/",
          "height": 380
        },
        "outputId": "4d4da3c9-c592-4409-91f9-be422416db3b",
        "id": "XLA9_05wCyGQ"
      },
      "execution_count": null,
      "outputs": [
        {
          "output_type": "stream",
          "name": "stdout",
          "text": [
            "(139653, 2)\n"
          ]
        },
        {
          "output_type": "execute_result",
          "data": {
            "text/plain": [
              "                            fos  count\n",
              "34476        Category structure     99\n",
              "43094             Age structure     99\n",
              "40113          Disease Ontology     99\n",
              "103968         Flipped learning     99\n",
              "14682                Air combat     99\n",
              "70283                  Geophone     99\n",
              "18424               Motherboard     99\n",
              "34735   Trace driven simulation     99\n",
              "37826             Micro doppler     99\n",
              "44481             Signal source     99"
            ],
            "text/html": [
              "\n",
              "  <div id=\"df-e294f18f-754e-4db1-89ca-fb23d996edb5\">\n",
              "    <div class=\"colab-df-container\">\n",
              "      <div>\n",
              "<style scoped>\n",
              "    .dataframe tbody tr th:only-of-type {\n",
              "        vertical-align: middle;\n",
              "    }\n",
              "\n",
              "    .dataframe tbody tr th {\n",
              "        vertical-align: top;\n",
              "    }\n",
              "\n",
              "    .dataframe thead th {\n",
              "        text-align: right;\n",
              "    }\n",
              "</style>\n",
              "<table border=\"1\" class=\"dataframe\">\n",
              "  <thead>\n",
              "    <tr style=\"text-align: right;\">\n",
              "      <th></th>\n",
              "      <th>fos</th>\n",
              "      <th>count</th>\n",
              "    </tr>\n",
              "  </thead>\n",
              "  <tbody>\n",
              "    <tr>\n",
              "      <th>34476</th>\n",
              "      <td>Category structure</td>\n",
              "      <td>99</td>\n",
              "    </tr>\n",
              "    <tr>\n",
              "      <th>43094</th>\n",
              "      <td>Age structure</td>\n",
              "      <td>99</td>\n",
              "    </tr>\n",
              "    <tr>\n",
              "      <th>40113</th>\n",
              "      <td>Disease Ontology</td>\n",
              "      <td>99</td>\n",
              "    </tr>\n",
              "    <tr>\n",
              "      <th>103968</th>\n",
              "      <td>Flipped learning</td>\n",
              "      <td>99</td>\n",
              "    </tr>\n",
              "    <tr>\n",
              "      <th>14682</th>\n",
              "      <td>Air combat</td>\n",
              "      <td>99</td>\n",
              "    </tr>\n",
              "    <tr>\n",
              "      <th>70283</th>\n",
              "      <td>Geophone</td>\n",
              "      <td>99</td>\n",
              "    </tr>\n",
              "    <tr>\n",
              "      <th>18424</th>\n",
              "      <td>Motherboard</td>\n",
              "      <td>99</td>\n",
              "    </tr>\n",
              "    <tr>\n",
              "      <th>34735</th>\n",
              "      <td>Trace driven simulation</td>\n",
              "      <td>99</td>\n",
              "    </tr>\n",
              "    <tr>\n",
              "      <th>37826</th>\n",
              "      <td>Micro doppler</td>\n",
              "      <td>99</td>\n",
              "    </tr>\n",
              "    <tr>\n",
              "      <th>44481</th>\n",
              "      <td>Signal source</td>\n",
              "      <td>99</td>\n",
              "    </tr>\n",
              "  </tbody>\n",
              "</table>\n",
              "</div>\n",
              "      <button class=\"colab-df-convert\" onclick=\"convertToInteractive('df-e294f18f-754e-4db1-89ca-fb23d996edb5')\"\n",
              "              title=\"Convert this dataframe to an interactive table.\"\n",
              "              style=\"display:none;\">\n",
              "        \n",
              "  <svg xmlns=\"http://www.w3.org/2000/svg\" height=\"24px\"viewBox=\"0 0 24 24\"\n",
              "       width=\"24px\">\n",
              "    <path d=\"M0 0h24v24H0V0z\" fill=\"none\"/>\n",
              "    <path d=\"M18.56 5.44l.94 2.06.94-2.06 2.06-.94-2.06-.94-.94-2.06-.94 2.06-2.06.94zm-11 1L8.5 8.5l.94-2.06 2.06-.94-2.06-.94L8.5 2.5l-.94 2.06-2.06.94zm10 10l.94 2.06.94-2.06 2.06-.94-2.06-.94-.94-2.06-.94 2.06-2.06.94z\"/><path d=\"M17.41 7.96l-1.37-1.37c-.4-.4-.92-.59-1.43-.59-.52 0-1.04.2-1.43.59L10.3 9.45l-7.72 7.72c-.78.78-.78 2.05 0 2.83L4 21.41c.39.39.9.59 1.41.59.51 0 1.02-.2 1.41-.59l7.78-7.78 2.81-2.81c.8-.78.8-2.07 0-2.86zM5.41 20L4 18.59l7.72-7.72 1.47 1.35L5.41 20z\"/>\n",
              "  </svg>\n",
              "      </button>\n",
              "      \n",
              "  <style>\n",
              "    .colab-df-container {\n",
              "      display:flex;\n",
              "      flex-wrap:wrap;\n",
              "      gap: 12px;\n",
              "    }\n",
              "\n",
              "    .colab-df-convert {\n",
              "      background-color: #E8F0FE;\n",
              "      border: none;\n",
              "      border-radius: 50%;\n",
              "      cursor: pointer;\n",
              "      display: none;\n",
              "      fill: #1967D2;\n",
              "      height: 32px;\n",
              "      padding: 0 0 0 0;\n",
              "      width: 32px;\n",
              "    }\n",
              "\n",
              "    .colab-df-convert:hover {\n",
              "      background-color: #E2EBFA;\n",
              "      box-shadow: 0px 1px 2px rgba(60, 64, 67, 0.3), 0px 1px 3px 1px rgba(60, 64, 67, 0.15);\n",
              "      fill: #174EA6;\n",
              "    }\n",
              "\n",
              "    [theme=dark] .colab-df-convert {\n",
              "      background-color: #3B4455;\n",
              "      fill: #D2E3FC;\n",
              "    }\n",
              "\n",
              "    [theme=dark] .colab-df-convert:hover {\n",
              "      background-color: #434B5C;\n",
              "      box-shadow: 0px 1px 3px 1px rgba(0, 0, 0, 0.15);\n",
              "      filter: drop-shadow(0px 1px 2px rgba(0, 0, 0, 0.3));\n",
              "      fill: #FFFFFF;\n",
              "    }\n",
              "  </style>\n",
              "\n",
              "      <script>\n",
              "        const buttonEl =\n",
              "          document.querySelector('#df-e294f18f-754e-4db1-89ca-fb23d996edb5 button.colab-df-convert');\n",
              "        buttonEl.style.display =\n",
              "          google.colab.kernel.accessAllowed ? 'block' : 'none';\n",
              "\n",
              "        async function convertToInteractive(key) {\n",
              "          const element = document.querySelector('#df-e294f18f-754e-4db1-89ca-fb23d996edb5');\n",
              "          const dataTable =\n",
              "            await google.colab.kernel.invokeFunction('convertToInteractive',\n",
              "                                                     [key], {});\n",
              "          if (!dataTable) return;\n",
              "\n",
              "          const docLinkHtml = 'Like what you see? Visit the ' +\n",
              "            '<a target=\"_blank\" href=https://colab.research.google.com/notebooks/data_table.ipynb>data table notebook</a>'\n",
              "            + ' to learn more about interactive tables.';\n",
              "          element.innerHTML = '';\n",
              "          dataTable['output_type'] = 'display_data';\n",
              "          await google.colab.output.renderOutput(dataTable, element);\n",
              "          const docLink = document.createElement('div');\n",
              "          docLink.innerHTML = docLinkHtml;\n",
              "          element.appendChild(docLink);\n",
              "        }\n",
              "      </script>\n",
              "    </div>\n",
              "  </div>\n",
              "  "
            ]
          },
          "metadata": {},
          "execution_count": 55
        }
      ]
    },
    {
      "cell_type": "markdown",
      "source": [
        "## Статистика по Computer Science в разрезе лет"
      ],
      "metadata": {
        "id": "b-JMG14j2WUo"
      }
    },
    {
      "cell_type": "code",
      "source": [
        "cs_df = pandas.read_csv('/content/gdrive/MyDrive/MADE/data/cs_year_stat.csv', header = 0, index_col = 0)\n",
        "cs_df.head()"
      ],
      "metadata": {
        "colab": {
          "base_uri": "https://localhost:8080/",
          "height": 206
        },
        "outputId": "05ce27be-76ff-4351-e581-29312973b935",
        "id": "EZRRJ0-o34P2"
      },
      "execution_count": null,
      "outputs": [
        {
          "output_type": "execute_result",
          "data": {
            "text/plain": [
              "   year  count\n",
              "0  2000  44019\n",
              "1  2001  46539\n",
              "2  2002  52902\n",
              "3  2003  62207\n",
              "4  2004  77699"
            ],
            "text/html": [
              "\n",
              "  <div id=\"df-9abad299-bcb7-4a0d-8722-9e66a3f19d09\">\n",
              "    <div class=\"colab-df-container\">\n",
              "      <div>\n",
              "<style scoped>\n",
              "    .dataframe tbody tr th:only-of-type {\n",
              "        vertical-align: middle;\n",
              "    }\n",
              "\n",
              "    .dataframe tbody tr th {\n",
              "        vertical-align: top;\n",
              "    }\n",
              "\n",
              "    .dataframe thead th {\n",
              "        text-align: right;\n",
              "    }\n",
              "</style>\n",
              "<table border=\"1\" class=\"dataframe\">\n",
              "  <thead>\n",
              "    <tr style=\"text-align: right;\">\n",
              "      <th></th>\n",
              "      <th>year</th>\n",
              "      <th>count</th>\n",
              "    </tr>\n",
              "  </thead>\n",
              "  <tbody>\n",
              "    <tr>\n",
              "      <th>0</th>\n",
              "      <td>2000</td>\n",
              "      <td>44019</td>\n",
              "    </tr>\n",
              "    <tr>\n",
              "      <th>1</th>\n",
              "      <td>2001</td>\n",
              "      <td>46539</td>\n",
              "    </tr>\n",
              "    <tr>\n",
              "      <th>2</th>\n",
              "      <td>2002</td>\n",
              "      <td>52902</td>\n",
              "    </tr>\n",
              "    <tr>\n",
              "      <th>3</th>\n",
              "      <td>2003</td>\n",
              "      <td>62207</td>\n",
              "    </tr>\n",
              "    <tr>\n",
              "      <th>4</th>\n",
              "      <td>2004</td>\n",
              "      <td>77699</td>\n",
              "    </tr>\n",
              "  </tbody>\n",
              "</table>\n",
              "</div>\n",
              "      <button class=\"colab-df-convert\" onclick=\"convertToInteractive('df-9abad299-bcb7-4a0d-8722-9e66a3f19d09')\"\n",
              "              title=\"Convert this dataframe to an interactive table.\"\n",
              "              style=\"display:none;\">\n",
              "        \n",
              "  <svg xmlns=\"http://www.w3.org/2000/svg\" height=\"24px\"viewBox=\"0 0 24 24\"\n",
              "       width=\"24px\">\n",
              "    <path d=\"M0 0h24v24H0V0z\" fill=\"none\"/>\n",
              "    <path d=\"M18.56 5.44l.94 2.06.94-2.06 2.06-.94-2.06-.94-.94-2.06-.94 2.06-2.06.94zm-11 1L8.5 8.5l.94-2.06 2.06-.94-2.06-.94L8.5 2.5l-.94 2.06-2.06.94zm10 10l.94 2.06.94-2.06 2.06-.94-2.06-.94-.94-2.06-.94 2.06-2.06.94z\"/><path d=\"M17.41 7.96l-1.37-1.37c-.4-.4-.92-.59-1.43-.59-.52 0-1.04.2-1.43.59L10.3 9.45l-7.72 7.72c-.78.78-.78 2.05 0 2.83L4 21.41c.39.39.9.59 1.41.59.51 0 1.02-.2 1.41-.59l7.78-7.78 2.81-2.81c.8-.78.8-2.07 0-2.86zM5.41 20L4 18.59l7.72-7.72 1.47 1.35L5.41 20z\"/>\n",
              "  </svg>\n",
              "      </button>\n",
              "      \n",
              "  <style>\n",
              "    .colab-df-container {\n",
              "      display:flex;\n",
              "      flex-wrap:wrap;\n",
              "      gap: 12px;\n",
              "    }\n",
              "\n",
              "    .colab-df-convert {\n",
              "      background-color: #E8F0FE;\n",
              "      border: none;\n",
              "      border-radius: 50%;\n",
              "      cursor: pointer;\n",
              "      display: none;\n",
              "      fill: #1967D2;\n",
              "      height: 32px;\n",
              "      padding: 0 0 0 0;\n",
              "      width: 32px;\n",
              "    }\n",
              "\n",
              "    .colab-df-convert:hover {\n",
              "      background-color: #E2EBFA;\n",
              "      box-shadow: 0px 1px 2px rgba(60, 64, 67, 0.3), 0px 1px 3px 1px rgba(60, 64, 67, 0.15);\n",
              "      fill: #174EA6;\n",
              "    }\n",
              "\n",
              "    [theme=dark] .colab-df-convert {\n",
              "      background-color: #3B4455;\n",
              "      fill: #D2E3FC;\n",
              "    }\n",
              "\n",
              "    [theme=dark] .colab-df-convert:hover {\n",
              "      background-color: #434B5C;\n",
              "      box-shadow: 0px 1px 3px 1px rgba(0, 0, 0, 0.15);\n",
              "      filter: drop-shadow(0px 1px 2px rgba(0, 0, 0, 0.3));\n",
              "      fill: #FFFFFF;\n",
              "    }\n",
              "  </style>\n",
              "\n",
              "      <script>\n",
              "        const buttonEl =\n",
              "          document.querySelector('#df-9abad299-bcb7-4a0d-8722-9e66a3f19d09 button.colab-df-convert');\n",
              "        buttonEl.style.display =\n",
              "          google.colab.kernel.accessAllowed ? 'block' : 'none';\n",
              "\n",
              "        async function convertToInteractive(key) {\n",
              "          const element = document.querySelector('#df-9abad299-bcb7-4a0d-8722-9e66a3f19d09');\n",
              "          const dataTable =\n",
              "            await google.colab.kernel.invokeFunction('convertToInteractive',\n",
              "                                                     [key], {});\n",
              "          if (!dataTable) return;\n",
              "\n",
              "          const docLinkHtml = 'Like what you see? Visit the ' +\n",
              "            '<a target=\"_blank\" href=https://colab.research.google.com/notebooks/data_table.ipynb>data table notebook</a>'\n",
              "            + ' to learn more about interactive tables.';\n",
              "          element.innerHTML = '';\n",
              "          dataTable['output_type'] = 'display_data';\n",
              "          await google.colab.output.renderOutput(dataTable, element);\n",
              "          const docLink = document.createElement('div');\n",
              "          docLink.innerHTML = docLinkHtml;\n",
              "          element.appendChild(docLink);\n",
              "        }\n",
              "      </script>\n",
              "    </div>\n",
              "  </div>\n",
              "  "
            ]
          },
          "metadata": {},
          "execution_count": 14
        }
      ]
    },
    {
      "cell_type": "code",
      "source": [
        "from matplotlib import pyplot as plt\n",
        "fig = plt.figure(figsize=(10, 5))\n",
        "plt.xticks(rotation=90)\n",
        "plt.bar(cs_df['year'], cs_df['count'] )"
      ],
      "metadata": {
        "colab": {
          "base_uri": "https://localhost:8080/",
          "height": 352
        },
        "id": "dy1gvps2ZFeU",
        "outputId": "c06ea4a4-18cc-4fc6-d0e6-71f009fd79c8"
      },
      "execution_count": null,
      "outputs": [
        {
          "output_type": "execute_result",
          "data": {
            "text/plain": [
              "<BarContainer object of 22 artists>"
            ]
          },
          "metadata": {},
          "execution_count": 16
        },
        {
          "output_type": "display_data",
          "data": {
            "text/plain": [
              "<Figure size 720x360 with 1 Axes>"
            ],
            "image/png": "[encoded data removed]"
          },
          "metadata": {
            "needs_background": "light"
          }
        }
      ]
    },
    {
      "cell_type": "code",
      "source": [],
      "metadata": {
        "id": "zcCzKz2CAqWt"
      },
      "execution_count": null,
      "outputs": []
    },
    {
      "cell_type": "markdown",
      "source": [
        "#Выводы\n",
        "\n",
        "## На основе проведенного анализа данных были сделаны следующие выводы:\n",
        "\n",
        "1. Из всех полей данных для дальнейшей работы по проекту мы будем брать следующие поля: _id', 'year', 'title', 'venue','authors', 'doi', 'fos', 'n_citation', 'lang', 'abstract', 'keywords', 'references'. \n",
        "\n",
        "\n",
        "*   для решения задачи кластеризации, классификации и моделирования тем можно использовать текстовые признаки статей, такие как 'title', 'fos', 'abstract', 'keywords'. Максимальное количество пропущенных значений наблюдается по полям 'abstract' - 11,9% и 'keywords'- 21.9%. Это говорит о том, что в худшем случае (если мы захотим использовать при обучении моделей поле 'keywords') у нас останется 78% данных, что составляет ~4,1 млн. записей. Однако мы также можем использовать  'keywords' как необязательный признак, и в этом случае у нас будет ~ 4.7 млн записей. На наш взгляд этого количества будет вполне достаточно для обучения вышеперечисленных моделей.\n",
        "\n",
        "* остальные поля не имеют ценности для создания рекоммендаций, так как не связаны с содержанием статей и их взаимосвязями.\n",
        "\n",
        "2. Оценка датасета по числу дубликатов показала, что в данных присутствует небольшое число дубликатов - 1%\n",
        "\n",
        "3. Поле 'pdf' на 79 % состоит из отсутствующих значений, что позволяет смело удалить это поле, 'references' — 24 %, 'keywords' — 22 %.  Поля 'year', 'title', 'venue', 'authors' содержат менее 1% отсутствующих значений.\n",
        "\n",
        "4. Оценка числа цитирований по статьям показывает, что более 35% всего датасета статей имеет либо 0 цитировай, либо это число пропущено (у более 25% - число цитирований = 0, у более 10% датасета - число цитирований пропущено. У статей, где число цитирования присутствует, медианное значение цитируемости - 3. У графика распределения числа цитирований очень длинный хвост в сторону больших значений n_citation.\n",
        "5. Данные цитирований по годам показывают, что суммарное годовое число цитирований более ранних статей больше, чем суммарное годовое число цитирований новых статей (за последние 10 лет). Можно предположить, что это связано с некоторой \"замедленной\" реакцией научного сообщества на новые статьи, а также длительный отрезок времени подготовки новой публикации. Также данные опубликованных статей, сгруппированные по годам, показывают, что число статей, ежегодно попадающих в печать растет каждый год за редкими исключениями.\n",
        "6. Основная часть статей в датасете представлена на английском языке, незначительное количество - на китайском, для ~12% (625 769) статей информация о языке отсутствует\n",
        "\n",
        "7. Анализ научных направлений публикаций показал, что наиболее популярными областями являются широкие направления исследований (Computer science, Mathematics, Engineering, etc. Причем 59% статей опубликованы по направлению Computer science. Статистика по годам показывает также стабильный рост публикаций по этому направлению (2020, 2021 количество немного уменьшилось скорее всего из-за того, что еще не все статьи этих лет попали в датасет). Число всех направлений > 160 тыс., более 130 тыс. встречается менее 100 раз. Из этого можно сделать вывод, что направления исследований могут быть очень специфичны и в то же время относятся к какой-то большой обобщающей отрасли.    "
      ],
      "metadata": {
        "id": "r9UMZ2-K2eGz"
      }
    },
    {
      "cell_type": "code",
      "source": [],
      "metadata": {
        "id": "xWBpbCSB2g6-"
      },
      "execution_count": null,
      "outputs": []
    }
  ],
  "metadata": {
    "accelerator": "GPU",
    "colab": {
      "collapsed_sections": [],
      "machine_shape": "hm",
      "provenance": [],
      "toc_visible": true,
      "include_colab_link": true
    },
    "kernelspec": {
      "display_name": "Python 3",
      "name": "python3"
    },
    "language_info": {
      "name": "python"
    },
    "gpuClass": "standard"
  },
  "nbformat": 4,
  "nbformat_minor": 0
}